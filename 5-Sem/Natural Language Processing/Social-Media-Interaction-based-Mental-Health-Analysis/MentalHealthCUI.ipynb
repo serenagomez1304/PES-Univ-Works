{
  "nbformat": 4,
  "nbformat_minor": 0,
  "metadata": {
    "colab": {
      "name": "MentalHealthCUI.ipynb",
      "provenance": [],
      "collapsed_sections": [],
      "include_colab_link": true
    },
    "kernelspec": {
      "name": "python3",
      "display_name": "Python 3"
    },
    "language_info": {
      "name": "python"
    }
  },
  "cells": [
    {
      "cell_type": "markdown",
      "metadata": {
        "id": "view-in-github",
        "colab_type": "text"
      },
      "source": [
        "<a href=\"https://colab.research.google.com/github/Aliyahk888/Social-Media-Interaction-based-Mental-Health-Analysis-/blob/main/MentalHealthCUI.ipynb\" target=\"_parent\"><img src=\"https://colab.research.google.com/assets/colab-badge.svg\" alt=\"Open In Colab\"/></a>"
      ]
    },
    {
      "cell_type": "markdown",
      "source": [
        "# NLP PROJECT - MENTAL HEALTH CUI"
      ],
      "metadata": {
        "id": "HhGfYdmS7bIa"
      }
    },
    {
      "cell_type": "markdown",
      "source": [
        "Importing Libraries"
      ],
      "metadata": {
        "id": "Phg7j2hxEKLJ"
      }
    },
    {
      "cell_type": "code",
      "source": [
        "from google.colab import drive\n",
        "drive.mount('/content/drive')"
      ],
      "metadata": {
        "colab": {
          "base_uri": "https://localhost:8080/"
        },
        "id": "S7ypWMoi997o",
        "outputId": "cdad564e-020a-4c74-c65b-c8d586eaf03d"
      },
      "execution_count": null,
      "outputs": [
        {
          "output_type": "stream",
          "name": "stdout",
          "text": [
            "Mounted at /content/drive\n"
          ]
        }
      ]
    },
    {
      "cell_type": "code",
      "source": [
        "## importing all libraries\n",
        "import pandas as pd\n",
        "import numpy as np\n",
        "import seaborn as sns\n",
        "import matplotlib.pyplot as plt\n",
        "import re\n",
        "import nltk\n",
        "nltk.download('punkt')\n",
        "nltk.download('stopwords')\n",
        "nltk.download('wordnet')\n",
        "from sklearn.preprocessing import LabelEncoder\n",
        "from sklearn.model_selection import GridSearchCV\n",
        "from sklearn.model_selection import train_test_split\n",
        "\n",
        "from gensim.models import Word2Vec  \n",
        "from sklearn.feature_extraction.text import TfidfVectorizer   \n",
        "\n",
        "from sklearn.pipeline import Pipeline\n",
        "from sklearn.svm import SVC\n",
        "\n",
        "from sklearn.metrics import precision_score, recall_score, f1_score, accuracy_score\n",
        "import warnings\n",
        "warnings.filterwarnings(\"ignore\")\n",
        "# nltk\n",
        "from nltk.stem import WordNetLemmatizer\n",
        "from nltk.tokenize import TweetTokenizer, word_tokenize\n",
        "# sklearn\n",
        "from sklearn.svm import LinearSVC\n",
        "from sklearn.linear_model import LogisticRegression\n",
        "from sklearn.model_selection import train_test_split\n",
        "from sklearn.feature_extraction.text import TfidfVectorizer\n",
        "from sklearn.metrics import confusion_matrix, classification_report\n",
        "from sklearn.metrics import accuracy_score\n",
        "\n",
        "from tensorflow.keras.layers import LSTM, Activation, Dense, Dropout, Input, Embedding\n",
        "from tensorflow.keras.models import Model\n",
        "from tensorflow.keras.optimizers import RMSprop\n",
        "from tensorflow.keras.preprocessing.text import Tokenizer\n",
        "from tensorflow.keras.preprocessing import sequence"
      ],
      "metadata": {
        "id": "YPnEhLfgDv3x",
        "colab": {
          "base_uri": "https://localhost:8080/"
        },
        "outputId": "4d7144b5-2439-4e7d-efee-961f4c5bcae1"
      },
      "execution_count": null,
      "outputs": [
        {
          "output_type": "stream",
          "name": "stdout",
          "text": [
            "[nltk_data] Downloading package punkt to /root/nltk_data...\n",
            "[nltk_data]   Unzipping tokenizers/punkt.zip.\n",
            "[nltk_data] Downloading package stopwords to /root/nltk_data...\n",
            "[nltk_data]   Unzipping corpora/stopwords.zip.\n",
            "[nltk_data] Downloading package wordnet to /root/nltk_data...\n",
            "[nltk_data]   Unzipping corpora/wordnet.zip.\n"
          ]
        }
      ]
    },
    {
      "cell_type": "code",
      "source": [
        "!pip install tweepy\n",
        "!pip install --upgrade tweepy"
      ],
      "metadata": {
        "colab": {
          "base_uri": "https://localhost:8080/"
        },
        "id": "gA6_ZQ0Qdvqm",
        "outputId": "027b2cd8-6833-481e-bf16-dada25755710"
      },
      "execution_count": null,
      "outputs": [
        {
          "output_type": "stream",
          "name": "stdout",
          "text": [
            "Requirement already satisfied: tweepy in /usr/local/lib/python3.7/dist-packages (3.10.0)\n",
            "Requirement already satisfied: requests[socks]>=2.11.1 in /usr/local/lib/python3.7/dist-packages (from tweepy) (2.23.0)\n",
            "Requirement already satisfied: requests-oauthlib>=0.7.0 in /usr/local/lib/python3.7/dist-packages (from tweepy) (1.3.1)\n",
            "Requirement already satisfied: six>=1.10.0 in /usr/local/lib/python3.7/dist-packages (from tweepy) (1.15.0)\n",
            "Requirement already satisfied: oauthlib>=3.0.0 in /usr/local/lib/python3.7/dist-packages (from requests-oauthlib>=0.7.0->tweepy) (3.2.0)\n",
            "Requirement already satisfied: certifi>=2017.4.17 in /usr/local/lib/python3.7/dist-packages (from requests[socks]>=2.11.1->tweepy) (2021.10.8)\n",
            "Requirement already satisfied: urllib3!=1.25.0,!=1.25.1,<1.26,>=1.21.1 in /usr/local/lib/python3.7/dist-packages (from requests[socks]>=2.11.1->tweepy) (1.24.3)\n",
            "Requirement already satisfied: idna<3,>=2.5 in /usr/local/lib/python3.7/dist-packages (from requests[socks]>=2.11.1->tweepy) (2.10)\n",
            "Requirement already satisfied: chardet<4,>=3.0.2 in /usr/local/lib/python3.7/dist-packages (from requests[socks]>=2.11.1->tweepy) (3.0.4)\n",
            "Requirement already satisfied: PySocks!=1.5.7,>=1.5.6 in /usr/local/lib/python3.7/dist-packages (from requests[socks]>=2.11.1->tweepy) (1.7.1)\n",
            "Requirement already satisfied: tweepy in /usr/local/lib/python3.7/dist-packages (3.10.0)\n",
            "Collecting tweepy\n",
            "  Downloading tweepy-4.8.0-py2.py3-none-any.whl (77 kB)\n",
            "\u001b[K     |████████████████████████████████| 77 kB 3.2 MB/s \n",
            "\u001b[?25hRequirement already satisfied: oauthlib<4,>=3.2.0 in /usr/local/lib/python3.7/dist-packages (from tweepy) (3.2.0)\n",
            "Collecting requests<3,>=2.27.0\n",
            "  Downloading requests-2.27.1-py2.py3-none-any.whl (63 kB)\n",
            "\u001b[K     |████████████████████████████████| 63 kB 1.7 MB/s \n",
            "\u001b[?25hRequirement already satisfied: requests-oauthlib<2,>=1.2.0 in /usr/local/lib/python3.7/dist-packages (from tweepy) (1.3.1)\n",
            "Requirement already satisfied: urllib3<1.27,>=1.21.1 in /usr/local/lib/python3.7/dist-packages (from requests<3,>=2.27.0->tweepy) (1.24.3)\n",
            "Requirement already satisfied: charset-normalizer~=2.0.0 in /usr/local/lib/python3.7/dist-packages (from requests<3,>=2.27.0->tweepy) (2.0.12)\n",
            "Requirement already satisfied: idna<4,>=2.5 in /usr/local/lib/python3.7/dist-packages (from requests<3,>=2.27.0->tweepy) (2.10)\n",
            "Requirement already satisfied: certifi>=2017.4.17 in /usr/local/lib/python3.7/dist-packages (from requests<3,>=2.27.0->tweepy) (2021.10.8)\n",
            "Installing collected packages: requests, tweepy\n",
            "  Attempting uninstall: requests\n",
            "    Found existing installation: requests 2.23.0\n",
            "    Uninstalling requests-2.23.0:\n",
            "      Successfully uninstalled requests-2.23.0\n",
            "  Attempting uninstall: tweepy\n",
            "    Found existing installation: tweepy 3.10.0\n",
            "    Uninstalling tweepy-3.10.0:\n",
            "      Successfully uninstalled tweepy-3.10.0\n",
            "\u001b[31mERROR: pip's dependency resolver does not currently take into account all the packages that are installed. This behaviour is the source of the following dependency conflicts.\n",
            "google-colab 1.0.0 requires requests~=2.23.0, but you have requests 2.27.1 which is incompatible.\n",
            "datascience 0.10.6 requires folium==0.2.1, but you have folium 0.8.3 which is incompatible.\u001b[0m\n",
            "Successfully installed requests-2.27.1 tweepy-4.8.0\n"
          ]
        }
      ]
    },
    {
      "cell_type": "markdown",
      "source": [
        "Importing dataset"
      ],
      "metadata": {
        "id": "So8KaD9IEPJf"
      }
    },
    {
      "cell_type": "code",
      "source": [
        "df = pd.read_excel('/content/drive/MyDrive/NLP Project/Data/BehaviouralTweets.xlsx')\n",
        "df.tail(5)"
      ],
      "metadata": {
        "colab": {
          "base_uri": "https://localhost:8080/",
          "height": 206
        },
        "id": "CJ_KoTnnAU0L",
        "outputId": "619cacef-639f-4b01-8bb0-b2c4290a0c45"
      },
      "execution_count": null,
      "outputs": [
        {
          "output_type": "execute_result",
          "data": {
            "text/plain": [
              "                                                   Tweet Behaviour\n",
              "37985  Since I was 9 I felt depressed and almost took...  Suicidal\n",
              "37986  I don't know why I'm reaching out now of all t...  Suicidal\n",
              "37987  I dont believe in an afterlife, but i stay up ...  Suicidal\n",
              "37988  I don't think I actually will kill myself, but...  Suicidal\n",
              "37989  I wanna die so badly but everytime I hear abou...  Suicidal"
            ],
            "text/html": [
              "\n",
              "  <div id=\"df-dbedc6a8-bcc8-4e8f-b176-8145b7762a52\">\n",
              "    <div class=\"colab-df-container\">\n",
              "      <div>\n",
              "<style scoped>\n",
              "    .dataframe tbody tr th:only-of-type {\n",
              "        vertical-align: middle;\n",
              "    }\n",
              "\n",
              "    .dataframe tbody tr th {\n",
              "        vertical-align: top;\n",
              "    }\n",
              "\n",
              "    .dataframe thead th {\n",
              "        text-align: right;\n",
              "    }\n",
              "</style>\n",
              "<table border=\"1\" class=\"dataframe\">\n",
              "  <thead>\n",
              "    <tr style=\"text-align: right;\">\n",
              "      <th></th>\n",
              "      <th>Tweet</th>\n",
              "      <th>Behaviour</th>\n",
              "    </tr>\n",
              "  </thead>\n",
              "  <tbody>\n",
              "    <tr>\n",
              "      <th>37985</th>\n",
              "      <td>Since I was 9 I felt depressed and almost took...</td>\n",
              "      <td>Suicidal</td>\n",
              "    </tr>\n",
              "    <tr>\n",
              "      <th>37986</th>\n",
              "      <td>I don't know why I'm reaching out now of all t...</td>\n",
              "      <td>Suicidal</td>\n",
              "    </tr>\n",
              "    <tr>\n",
              "      <th>37987</th>\n",
              "      <td>I dont believe in an afterlife, but i stay up ...</td>\n",
              "      <td>Suicidal</td>\n",
              "    </tr>\n",
              "    <tr>\n",
              "      <th>37988</th>\n",
              "      <td>I don't think I actually will kill myself, but...</td>\n",
              "      <td>Suicidal</td>\n",
              "    </tr>\n",
              "    <tr>\n",
              "      <th>37989</th>\n",
              "      <td>I wanna die so badly but everytime I hear abou...</td>\n",
              "      <td>Suicidal</td>\n",
              "    </tr>\n",
              "  </tbody>\n",
              "</table>\n",
              "</div>\n",
              "      <button class=\"colab-df-convert\" onclick=\"convertToInteractive('df-dbedc6a8-bcc8-4e8f-b176-8145b7762a52')\"\n",
              "              title=\"Convert this dataframe to an interactive table.\"\n",
              "              style=\"display:none;\">\n",
              "        \n",
              "  <svg xmlns=\"http://www.w3.org/2000/svg\" height=\"24px\"viewBox=\"0 0 24 24\"\n",
              "       width=\"24px\">\n",
              "    <path d=\"M0 0h24v24H0V0z\" fill=\"none\"/>\n",
              "    <path d=\"M18.56 5.44l.94 2.06.94-2.06 2.06-.94-2.06-.94-.94-2.06-.94 2.06-2.06.94zm-11 1L8.5 8.5l.94-2.06 2.06-.94-2.06-.94L8.5 2.5l-.94 2.06-2.06.94zm10 10l.94 2.06.94-2.06 2.06-.94-2.06-.94-.94-2.06-.94 2.06-2.06.94z\"/><path d=\"M17.41 7.96l-1.37-1.37c-.4-.4-.92-.59-1.43-.59-.52 0-1.04.2-1.43.59L10.3 9.45l-7.72 7.72c-.78.78-.78 2.05 0 2.83L4 21.41c.39.39.9.59 1.41.59.51 0 1.02-.2 1.41-.59l7.78-7.78 2.81-2.81c.8-.78.8-2.07 0-2.86zM5.41 20L4 18.59l7.72-7.72 1.47 1.35L5.41 20z\"/>\n",
              "  </svg>\n",
              "      </button>\n",
              "      \n",
              "  <style>\n",
              "    .colab-df-container {\n",
              "      display:flex;\n",
              "      flex-wrap:wrap;\n",
              "      gap: 12px;\n",
              "    }\n",
              "\n",
              "    .colab-df-convert {\n",
              "      background-color: #E8F0FE;\n",
              "      border: none;\n",
              "      border-radius: 50%;\n",
              "      cursor: pointer;\n",
              "      display: none;\n",
              "      fill: #1967D2;\n",
              "      height: 32px;\n",
              "      padding: 0 0 0 0;\n",
              "      width: 32px;\n",
              "    }\n",
              "\n",
              "    .colab-df-convert:hover {\n",
              "      background-color: #E2EBFA;\n",
              "      box-shadow: 0px 1px 2px rgba(60, 64, 67, 0.3), 0px 1px 3px 1px rgba(60, 64, 67, 0.15);\n",
              "      fill: #174EA6;\n",
              "    }\n",
              "\n",
              "    [theme=dark] .colab-df-convert {\n",
              "      background-color: #3B4455;\n",
              "      fill: #D2E3FC;\n",
              "    }\n",
              "\n",
              "    [theme=dark] .colab-df-convert:hover {\n",
              "      background-color: #434B5C;\n",
              "      box-shadow: 0px 1px 3px 1px rgba(0, 0, 0, 0.15);\n",
              "      filter: drop-shadow(0px 1px 2px rgba(0, 0, 0, 0.3));\n",
              "      fill: #FFFFFF;\n",
              "    }\n",
              "  </style>\n",
              "\n",
              "      <script>\n",
              "        const buttonEl =\n",
              "          document.querySelector('#df-dbedc6a8-bcc8-4e8f-b176-8145b7762a52 button.colab-df-convert');\n",
              "        buttonEl.style.display =\n",
              "          google.colab.kernel.accessAllowed ? 'block' : 'none';\n",
              "\n",
              "        async function convertToInteractive(key) {\n",
              "          const element = document.querySelector('#df-dbedc6a8-bcc8-4e8f-b176-8145b7762a52');\n",
              "          const dataTable =\n",
              "            await google.colab.kernel.invokeFunction('convertToInteractive',\n",
              "                                                     [key], {});\n",
              "          if (!dataTable) return;\n",
              "\n",
              "          const docLinkHtml = 'Like what you see? Visit the ' +\n",
              "            '<a target=\"_blank\" href=https://colab.research.google.com/notebooks/data_table.ipynb>data table notebook</a>'\n",
              "            + ' to learn more about interactive tables.';\n",
              "          element.innerHTML = '';\n",
              "          dataTable['output_type'] = 'display_data';\n",
              "          await google.colab.output.renderOutput(dataTable, element);\n",
              "          const docLink = document.createElement('div');\n",
              "          docLink.innerHTML = docLinkHtml;\n",
              "          element.appendChild(docLink);\n",
              "        }\n",
              "      </script>\n",
              "    </div>\n",
              "  </div>\n",
              "  "
            ]
          },
          "metadata": {},
          "execution_count": 5
        }
      ]
    },
    {
      "cell_type": "markdown",
      "source": [
        "Data Preprocessing"
      ],
      "metadata": {
        "id": "O2XJfgbf9Eif"
      }
    },
    {
      "cell_type": "code",
      "source": [
        "#dropping null values\n",
        "df.dropna(inplace = True)\n",
        "df.shape"
      ],
      "metadata": {
        "id": "Z56ohrEXDtKS",
        "colab": {
          "base_uri": "https://localhost:8080/"
        },
        "outputId": "591e6304-50df-427a-9d5a-2835731ace1b"
      },
      "execution_count": null,
      "outputs": [
        {
          "output_type": "execute_result",
          "data": {
            "text/plain": [
              "(37959, 2)"
            ]
          },
          "metadata": {},
          "execution_count": 6
        }
      ]
    },
    {
      "cell_type": "code",
      "source": [
        "#drop duplicate rows \n",
        "df=df.drop_duplicates(subset=['Tweet'], keep='last')"
      ],
      "metadata": {
        "id": "86rXHmzwEABx"
      },
      "execution_count": null,
      "outputs": []
    },
    {
      "cell_type": "code",
      "source": [
        "df.shape\n",
        "df.reset_index"
      ],
      "metadata": {
        "colab": {
          "base_uri": "https://localhost:8080/"
        },
        "id": "HPGi1_BrEmkE",
        "outputId": "6e623860-1893-4f1f-b837-4618a7c91c2f"
      },
      "execution_count": null,
      "outputs": [
        {
          "output_type": "execute_result",
          "data": {
            "text/plain": [
              "<bound method DataFrame.reset_index of                                                    Tweet Behaviour\n",
              "0               remember hillary email non secure server    Normal\n",
              "1                                       cant avoid demon    Normal\n",
              "2      por fin la pusieron en spotify losing way de f...    Normal\n",
              "3                                                  kills    Normal\n",
              "4      thank introduce important gunsense law make co...    Normal\n",
              "...                                                  ...       ...\n",
              "37985  Since I was 9 I felt depressed and almost took...  Suicidal\n",
              "37986  I don't know why I'm reaching out now of all t...  Suicidal\n",
              "37987  I dont believe in an afterlife, but i stay up ...  Suicidal\n",
              "37988  I don't think I actually will kill myself, but...  Suicidal\n",
              "37989  I wanna die so badly but everytime I hear abou...  Suicidal\n",
              "\n",
              "[19341 rows x 2 columns]>"
            ]
          },
          "metadata": {},
          "execution_count": 8
        }
      ]
    },
    {
      "cell_type": "code",
      "source": [
        "df.shape"
      ],
      "metadata": {
        "colab": {
          "base_uri": "https://localhost:8080/"
        },
        "id": "rgyS8mFBE5au",
        "outputId": "9213ab41-af30-4c4f-e126-b48a0465b9cf"
      },
      "execution_count": null,
      "outputs": [
        {
          "output_type": "execute_result",
          "data": {
            "text/plain": [
              "(19341, 2)"
            ]
          },
          "metadata": {},
          "execution_count": 9
        }
      ]
    },
    {
      "cell_type": "markdown",
      "source": [
        "Assigning numeric values to target labels"
      ],
      "metadata": {
        "id": "3yc9WfAU9RUS"
      }
    },
    {
      "cell_type": "code",
      "source": [
        "possible_labels = df.Behaviour.unique()\n",
        "\n",
        "label_dict = {}\n",
        "for index, possible_label in enumerate(possible_labels):\n",
        "    label_dict[possible_label] = index\n",
        "label_dict"
      ],
      "metadata": {
        "id": "y-jEtWnfD15U",
        "colab": {
          "base_uri": "https://localhost:8080/"
        },
        "outputId": "c4e70638-aacd-4d98-e7b8-c78a10cc7ebf"
      },
      "execution_count": null,
      "outputs": [
        {
          "output_type": "execute_result",
          "data": {
            "text/plain": [
              "{'Anxious': 3, 'Lonely': 2, 'Normal': 0, 'Stressed': 1, 'Suicidal': 4}"
            ]
          },
          "metadata": {},
          "execution_count": 10
        }
      ]
    },
    {
      "cell_type": "code",
      "source": [
        "df['Behaviour'] = df.Behaviour.replace(label_dict)"
      ],
      "metadata": {
        "id": "HqvuzxOCD2dK"
      },
      "execution_count": null,
      "outputs": []
    },
    {
      "cell_type": "code",
      "source": [
        "df"
      ],
      "metadata": {
        "colab": {
          "base_uri": "https://localhost:8080/",
          "height": 423
        },
        "id": "05c6Zgk8Eqjd",
        "outputId": "f5095790-a161-407f-bcba-d36a9a8ddde6"
      },
      "execution_count": null,
      "outputs": [
        {
          "output_type": "execute_result",
          "data": {
            "text/plain": [
              "                                                   Tweet  Behaviour\n",
              "0               remember hillary email non secure server          0\n",
              "1                                       cant avoid demon          0\n",
              "2      por fin la pusieron en spotify losing way de f...          0\n",
              "3                                                  kills          0\n",
              "4      thank introduce important gunsense law make co...          0\n",
              "...                                                  ...        ...\n",
              "37985  Since I was 9 I felt depressed and almost took...          4\n",
              "37986  I don't know why I'm reaching out now of all t...          4\n",
              "37987  I dont believe in an afterlife, but i stay up ...          4\n",
              "37988  I don't think I actually will kill myself, but...          4\n",
              "37989  I wanna die so badly but everytime I hear abou...          4\n",
              "\n",
              "[19341 rows x 2 columns]"
            ],
            "text/html": [
              "\n",
              "  <div id=\"df-f8ceb16a-23bc-488b-a671-487638dd87dd\">\n",
              "    <div class=\"colab-df-container\">\n",
              "      <div>\n",
              "<style scoped>\n",
              "    .dataframe tbody tr th:only-of-type {\n",
              "        vertical-align: middle;\n",
              "    }\n",
              "\n",
              "    .dataframe tbody tr th {\n",
              "        vertical-align: top;\n",
              "    }\n",
              "\n",
              "    .dataframe thead th {\n",
              "        text-align: right;\n",
              "    }\n",
              "</style>\n",
              "<table border=\"1\" class=\"dataframe\">\n",
              "  <thead>\n",
              "    <tr style=\"text-align: right;\">\n",
              "      <th></th>\n",
              "      <th>Tweet</th>\n",
              "      <th>Behaviour</th>\n",
              "    </tr>\n",
              "  </thead>\n",
              "  <tbody>\n",
              "    <tr>\n",
              "      <th>0</th>\n",
              "      <td>remember hillary email non secure server</td>\n",
              "      <td>0</td>\n",
              "    </tr>\n",
              "    <tr>\n",
              "      <th>1</th>\n",
              "      <td>cant avoid demon</td>\n",
              "      <td>0</td>\n",
              "    </tr>\n",
              "    <tr>\n",
              "      <th>2</th>\n",
              "      <td>por fin la pusieron en spotify losing way de f...</td>\n",
              "      <td>0</td>\n",
              "    </tr>\n",
              "    <tr>\n",
              "      <th>3</th>\n",
              "      <td>kills</td>\n",
              "      <td>0</td>\n",
              "    </tr>\n",
              "    <tr>\n",
              "      <th>4</th>\n",
              "      <td>thank introduce important gunsense law make co...</td>\n",
              "      <td>0</td>\n",
              "    </tr>\n",
              "    <tr>\n",
              "      <th>...</th>\n",
              "      <td>...</td>\n",
              "      <td>...</td>\n",
              "    </tr>\n",
              "    <tr>\n",
              "      <th>37985</th>\n",
              "      <td>Since I was 9 I felt depressed and almost took...</td>\n",
              "      <td>4</td>\n",
              "    </tr>\n",
              "    <tr>\n",
              "      <th>37986</th>\n",
              "      <td>I don't know why I'm reaching out now of all t...</td>\n",
              "      <td>4</td>\n",
              "    </tr>\n",
              "    <tr>\n",
              "      <th>37987</th>\n",
              "      <td>I dont believe in an afterlife, but i stay up ...</td>\n",
              "      <td>4</td>\n",
              "    </tr>\n",
              "    <tr>\n",
              "      <th>37988</th>\n",
              "      <td>I don't think I actually will kill myself, but...</td>\n",
              "      <td>4</td>\n",
              "    </tr>\n",
              "    <tr>\n",
              "      <th>37989</th>\n",
              "      <td>I wanna die so badly but everytime I hear abou...</td>\n",
              "      <td>4</td>\n",
              "    </tr>\n",
              "  </tbody>\n",
              "</table>\n",
              "<p>19341 rows × 2 columns</p>\n",
              "</div>\n",
              "      <button class=\"colab-df-convert\" onclick=\"convertToInteractive('df-f8ceb16a-23bc-488b-a671-487638dd87dd')\"\n",
              "              title=\"Convert this dataframe to an interactive table.\"\n",
              "              style=\"display:none;\">\n",
              "        \n",
              "  <svg xmlns=\"http://www.w3.org/2000/svg\" height=\"24px\"viewBox=\"0 0 24 24\"\n",
              "       width=\"24px\">\n",
              "    <path d=\"M0 0h24v24H0V0z\" fill=\"none\"/>\n",
              "    <path d=\"M18.56 5.44l.94 2.06.94-2.06 2.06-.94-2.06-.94-.94-2.06-.94 2.06-2.06.94zm-11 1L8.5 8.5l.94-2.06 2.06-.94-2.06-.94L8.5 2.5l-.94 2.06-2.06.94zm10 10l.94 2.06.94-2.06 2.06-.94-2.06-.94-.94-2.06-.94 2.06-2.06.94z\"/><path d=\"M17.41 7.96l-1.37-1.37c-.4-.4-.92-.59-1.43-.59-.52 0-1.04.2-1.43.59L10.3 9.45l-7.72 7.72c-.78.78-.78 2.05 0 2.83L4 21.41c.39.39.9.59 1.41.59.51 0 1.02-.2 1.41-.59l7.78-7.78 2.81-2.81c.8-.78.8-2.07 0-2.86zM5.41 20L4 18.59l7.72-7.72 1.47 1.35L5.41 20z\"/>\n",
              "  </svg>\n",
              "      </button>\n",
              "      \n",
              "  <style>\n",
              "    .colab-df-container {\n",
              "      display:flex;\n",
              "      flex-wrap:wrap;\n",
              "      gap: 12px;\n",
              "    }\n",
              "\n",
              "    .colab-df-convert {\n",
              "      background-color: #E8F0FE;\n",
              "      border: none;\n",
              "      border-radius: 50%;\n",
              "      cursor: pointer;\n",
              "      display: none;\n",
              "      fill: #1967D2;\n",
              "      height: 32px;\n",
              "      padding: 0 0 0 0;\n",
              "      width: 32px;\n",
              "    }\n",
              "\n",
              "    .colab-df-convert:hover {\n",
              "      background-color: #E2EBFA;\n",
              "      box-shadow: 0px 1px 2px rgba(60, 64, 67, 0.3), 0px 1px 3px 1px rgba(60, 64, 67, 0.15);\n",
              "      fill: #174EA6;\n",
              "    }\n",
              "\n",
              "    [theme=dark] .colab-df-convert {\n",
              "      background-color: #3B4455;\n",
              "      fill: #D2E3FC;\n",
              "    }\n",
              "\n",
              "    [theme=dark] .colab-df-convert:hover {\n",
              "      background-color: #434B5C;\n",
              "      box-shadow: 0px 1px 3px 1px rgba(0, 0, 0, 0.15);\n",
              "      filter: drop-shadow(0px 1px 2px rgba(0, 0, 0, 0.3));\n",
              "      fill: #FFFFFF;\n",
              "    }\n",
              "  </style>\n",
              "\n",
              "      <script>\n",
              "        const buttonEl =\n",
              "          document.querySelector('#df-f8ceb16a-23bc-488b-a671-487638dd87dd button.colab-df-convert');\n",
              "        buttonEl.style.display =\n",
              "          google.colab.kernel.accessAllowed ? 'block' : 'none';\n",
              "\n",
              "        async function convertToInteractive(key) {\n",
              "          const element = document.querySelector('#df-f8ceb16a-23bc-488b-a671-487638dd87dd');\n",
              "          const dataTable =\n",
              "            await google.colab.kernel.invokeFunction('convertToInteractive',\n",
              "                                                     [key], {});\n",
              "          if (!dataTable) return;\n",
              "\n",
              "          const docLinkHtml = 'Like what you see? Visit the ' +\n",
              "            '<a target=\"_blank\" href=https://colab.research.google.com/notebooks/data_table.ipynb>data table notebook</a>'\n",
              "            + ' to learn more about interactive tables.';\n",
              "          element.innerHTML = '';\n",
              "          dataTable['output_type'] = 'display_data';\n",
              "          await google.colab.output.renderOutput(dataTable, element);\n",
              "          const docLink = document.createElement('div');\n",
              "          docLink.innerHTML = docLinkHtml;\n",
              "          element.appendChild(docLink);\n",
              "        }\n",
              "      </script>\n",
              "    </div>\n",
              "  </div>\n",
              "  "
            ]
          },
          "metadata": {},
          "execution_count": 12
        }
      ]
    },
    {
      "cell_type": "code",
      "source": [
        "#shuffle dataset\n",
        "df = df.sample(frac = 1).reset_index(drop=True)\n",
        "df"
      ],
      "metadata": {
        "colab": {
          "base_uri": "https://localhost:8080/",
          "height": 423
        },
        "id": "95PD72ElEr8q",
        "outputId": "a52a63a3-9e28-4855-fe59-9c372fb0a1cf"
      },
      "execution_count": null,
      "outputs": [
        {
          "output_type": "execute_result",
          "data": {
            "text/plain": [
              "                                                   Tweet  Behaviour\n",
              "0                                   know shell tire soon          1\n",
              "1                                mmmm need toe suck fuck          3\n",
              "2      oh excuse im originally melbourne party id lik...          3\n",
              "3                  im excite valentines day im die alone          3\n",
              "4      hope u guy know u ever need talk someone regar...          2\n",
              "...                                                  ...        ...\n",
              "19336  Why is trying to kill yourself so hard and sca...          4\n",
              "19337  suppose sleep maybe bad idea maybe best idea c...          1\n",
              "19338  sad thank effort generosity appreciate hop you...          1\n",
              "19339  depend teach people need know deal know fail a...          3\n",
              "19340  help us god salvation help us glory name psalm...          0\n",
              "\n",
              "[19341 rows x 2 columns]"
            ],
            "text/html": [
              "\n",
              "  <div id=\"df-9b4dd830-95aa-419b-bc92-59398d30b6d3\">\n",
              "    <div class=\"colab-df-container\">\n",
              "      <div>\n",
              "<style scoped>\n",
              "    .dataframe tbody tr th:only-of-type {\n",
              "        vertical-align: middle;\n",
              "    }\n",
              "\n",
              "    .dataframe tbody tr th {\n",
              "        vertical-align: top;\n",
              "    }\n",
              "\n",
              "    .dataframe thead th {\n",
              "        text-align: right;\n",
              "    }\n",
              "</style>\n",
              "<table border=\"1\" class=\"dataframe\">\n",
              "  <thead>\n",
              "    <tr style=\"text-align: right;\">\n",
              "      <th></th>\n",
              "      <th>Tweet</th>\n",
              "      <th>Behaviour</th>\n",
              "    </tr>\n",
              "  </thead>\n",
              "  <tbody>\n",
              "    <tr>\n",
              "      <th>0</th>\n",
              "      <td>know shell tire soon</td>\n",
              "      <td>1</td>\n",
              "    </tr>\n",
              "    <tr>\n",
              "      <th>1</th>\n",
              "      <td>mmmm need toe suck fuck</td>\n",
              "      <td>3</td>\n",
              "    </tr>\n",
              "    <tr>\n",
              "      <th>2</th>\n",
              "      <td>oh excuse im originally melbourne party id lik...</td>\n",
              "      <td>3</td>\n",
              "    </tr>\n",
              "    <tr>\n",
              "      <th>3</th>\n",
              "      <td>im excite valentines day im die alone</td>\n",
              "      <td>3</td>\n",
              "    </tr>\n",
              "    <tr>\n",
              "      <th>4</th>\n",
              "      <td>hope u guy know u ever need talk someone regar...</td>\n",
              "      <td>2</td>\n",
              "    </tr>\n",
              "    <tr>\n",
              "      <th>...</th>\n",
              "      <td>...</td>\n",
              "      <td>...</td>\n",
              "    </tr>\n",
              "    <tr>\n",
              "      <th>19336</th>\n",
              "      <td>Why is trying to kill yourself so hard and sca...</td>\n",
              "      <td>4</td>\n",
              "    </tr>\n",
              "    <tr>\n",
              "      <th>19337</th>\n",
              "      <td>suppose sleep maybe bad idea maybe best idea c...</td>\n",
              "      <td>1</td>\n",
              "    </tr>\n",
              "    <tr>\n",
              "      <th>19338</th>\n",
              "      <td>sad thank effort generosity appreciate hop you...</td>\n",
              "      <td>1</td>\n",
              "    </tr>\n",
              "    <tr>\n",
              "      <th>19339</th>\n",
              "      <td>depend teach people need know deal know fail a...</td>\n",
              "      <td>3</td>\n",
              "    </tr>\n",
              "    <tr>\n",
              "      <th>19340</th>\n",
              "      <td>help us god salvation help us glory name psalm...</td>\n",
              "      <td>0</td>\n",
              "    </tr>\n",
              "  </tbody>\n",
              "</table>\n",
              "<p>19341 rows × 2 columns</p>\n",
              "</div>\n",
              "      <button class=\"colab-df-convert\" onclick=\"convertToInteractive('df-9b4dd830-95aa-419b-bc92-59398d30b6d3')\"\n",
              "              title=\"Convert this dataframe to an interactive table.\"\n",
              "              style=\"display:none;\">\n",
              "        \n",
              "  <svg xmlns=\"http://www.w3.org/2000/svg\" height=\"24px\"viewBox=\"0 0 24 24\"\n",
              "       width=\"24px\">\n",
              "    <path d=\"M0 0h24v24H0V0z\" fill=\"none\"/>\n",
              "    <path d=\"M18.56 5.44l.94 2.06.94-2.06 2.06-.94-2.06-.94-.94-2.06-.94 2.06-2.06.94zm-11 1L8.5 8.5l.94-2.06 2.06-.94-2.06-.94L8.5 2.5l-.94 2.06-2.06.94zm10 10l.94 2.06.94-2.06 2.06-.94-2.06-.94-.94-2.06-.94 2.06-2.06.94z\"/><path d=\"M17.41 7.96l-1.37-1.37c-.4-.4-.92-.59-1.43-.59-.52 0-1.04.2-1.43.59L10.3 9.45l-7.72 7.72c-.78.78-.78 2.05 0 2.83L4 21.41c.39.39.9.59 1.41.59.51 0 1.02-.2 1.41-.59l7.78-7.78 2.81-2.81c.8-.78.8-2.07 0-2.86zM5.41 20L4 18.59l7.72-7.72 1.47 1.35L5.41 20z\"/>\n",
              "  </svg>\n",
              "      </button>\n",
              "      \n",
              "  <style>\n",
              "    .colab-df-container {\n",
              "      display:flex;\n",
              "      flex-wrap:wrap;\n",
              "      gap: 12px;\n",
              "    }\n",
              "\n",
              "    .colab-df-convert {\n",
              "      background-color: #E8F0FE;\n",
              "      border: none;\n",
              "      border-radius: 50%;\n",
              "      cursor: pointer;\n",
              "      display: none;\n",
              "      fill: #1967D2;\n",
              "      height: 32px;\n",
              "      padding: 0 0 0 0;\n",
              "      width: 32px;\n",
              "    }\n",
              "\n",
              "    .colab-df-convert:hover {\n",
              "      background-color: #E2EBFA;\n",
              "      box-shadow: 0px 1px 2px rgba(60, 64, 67, 0.3), 0px 1px 3px 1px rgba(60, 64, 67, 0.15);\n",
              "      fill: #174EA6;\n",
              "    }\n",
              "\n",
              "    [theme=dark] .colab-df-convert {\n",
              "      background-color: #3B4455;\n",
              "      fill: #D2E3FC;\n",
              "    }\n",
              "\n",
              "    [theme=dark] .colab-df-convert:hover {\n",
              "      background-color: #434B5C;\n",
              "      box-shadow: 0px 1px 3px 1px rgba(0, 0, 0, 0.15);\n",
              "      filter: drop-shadow(0px 1px 2px rgba(0, 0, 0, 0.3));\n",
              "      fill: #FFFFFF;\n",
              "    }\n",
              "  </style>\n",
              "\n",
              "      <script>\n",
              "        const buttonEl =\n",
              "          document.querySelector('#df-9b4dd830-95aa-419b-bc92-59398d30b6d3 button.colab-df-convert');\n",
              "        buttonEl.style.display =\n",
              "          google.colab.kernel.accessAllowed ? 'block' : 'none';\n",
              "\n",
              "        async function convertToInteractive(key) {\n",
              "          const element = document.querySelector('#df-9b4dd830-95aa-419b-bc92-59398d30b6d3');\n",
              "          const dataTable =\n",
              "            await google.colab.kernel.invokeFunction('convertToInteractive',\n",
              "                                                     [key], {});\n",
              "          if (!dataTable) return;\n",
              "\n",
              "          const docLinkHtml = 'Like what you see? Visit the ' +\n",
              "            '<a target=\"_blank\" href=https://colab.research.google.com/notebooks/data_table.ipynb>data table notebook</a>'\n",
              "            + ' to learn more about interactive tables.';\n",
              "          element.innerHTML = '';\n",
              "          dataTable['output_type'] = 'display_data';\n",
              "          await google.colab.output.renderOutput(dataTable, element);\n",
              "          const docLink = document.createElement('div');\n",
              "          docLink.innerHTML = docLinkHtml;\n",
              "          element.appendChild(docLink);\n",
              "        }\n",
              "      </script>\n",
              "    </div>\n",
              "  </div>\n",
              "  "
            ]
          },
          "metadata": {},
          "execution_count": 13
        }
      ]
    },
    {
      "cell_type": "code",
      "source": [
        "df['Behaviour'].value_counts()"
      ],
      "metadata": {
        "colab": {
          "base_uri": "https://localhost:8080/"
        },
        "id": "tJUuRXFLdJEN",
        "outputId": "cedb3ac2-f64e-46a7-bc09-516b739f23dc"
      },
      "execution_count": null,
      "outputs": [
        {
          "output_type": "execute_result",
          "data": {
            "text/plain": [
              "0    9029\n",
              "3    5734\n",
              "1    4052\n",
              "4     465\n",
              "2      61\n",
              "Name: Behaviour, dtype: int64"
            ]
          },
          "metadata": {},
          "execution_count": 14
        }
      ]
    },
    {
      "cell_type": "markdown",
      "source": [
        "Tokenization"
      ],
      "metadata": {
        "id": "inbjN47I9gw2"
      }
    },
    {
      "cell_type": "code",
      "source": [
        "tweet_tokenizer = TweetTokenizer()\n",
        "tweet_tokens = []\n",
        "for index, row in df.iterrows():\n",
        "    tweet_tokens.append(word_tokenize(str(row['Tweet'])))\n",
        "df['text_clean'] = tweet_tokens\n",
        "print('Tokenization complete.')\n",
        "df"
      ],
      "metadata": {
        "colab": {
          "base_uri": "https://localhost:8080/",
          "height": 441
        },
        "id": "8pYW7IugGGO6",
        "outputId": "910fc416-e6dd-4e74-dafc-f7d5e916409e"
      },
      "execution_count": null,
      "outputs": [
        {
          "output_type": "stream",
          "name": "stdout",
          "text": [
            "Tokenization complete.\n"
          ]
        },
        {
          "output_type": "execute_result",
          "data": {
            "text/plain": [
              "                                                   Tweet  Behaviour  \\\n",
              "0                                   know shell tire soon          1   \n",
              "1                                mmmm need toe suck fuck          3   \n",
              "2      oh excuse im originally melbourne party id lik...          3   \n",
              "3                  im excite valentines day im die alone          3   \n",
              "4      hope u guy know u ever need talk someone regar...          2   \n",
              "...                                                  ...        ...   \n",
              "19336  Why is trying to kill yourself so hard and sca...          4   \n",
              "19337  suppose sleep maybe bad idea maybe best idea c...          1   \n",
              "19338  sad thank effort generosity appreciate hop you...          1   \n",
              "19339  depend teach people need know deal know fail a...          3   \n",
              "19340  help us god salvation help us glory name psalm...          0   \n",
              "\n",
              "                                              text_clean  \n",
              "0                              [know, shell, tire, soon]  \n",
              "1                          [mmmm, need, toe, suck, fuck]  \n",
              "2      [oh, excuse, im, originally, melbourne, party,...  \n",
              "3          [im, excite, valentines, day, im, die, alone]  \n",
              "4      [hope, u, guy, know, u, ever, need, talk, some...  \n",
              "...                                                  ...  \n",
              "19336  [Why, is, trying, to, kill, yourself, so, hard...  \n",
              "19337  [suppose, sleep, maybe, bad, idea, maybe, best...  \n",
              "19338  [sad, thank, effort, generosity, appreciate, h...  \n",
              "19339  [depend, teach, people, need, know, deal, know...  \n",
              "19340  [help, us, god, salvation, help, us, glory, na...  \n",
              "\n",
              "[19341 rows x 3 columns]"
            ],
            "text/html": [
              "\n",
              "  <div id=\"df-9cb73a19-6ffb-4e99-9416-81b4b86872bf\">\n",
              "    <div class=\"colab-df-container\">\n",
              "      <div>\n",
              "<style scoped>\n",
              "    .dataframe tbody tr th:only-of-type {\n",
              "        vertical-align: middle;\n",
              "    }\n",
              "\n",
              "    .dataframe tbody tr th {\n",
              "        vertical-align: top;\n",
              "    }\n",
              "\n",
              "    .dataframe thead th {\n",
              "        text-align: right;\n",
              "    }\n",
              "</style>\n",
              "<table border=\"1\" class=\"dataframe\">\n",
              "  <thead>\n",
              "    <tr style=\"text-align: right;\">\n",
              "      <th></th>\n",
              "      <th>Tweet</th>\n",
              "      <th>Behaviour</th>\n",
              "      <th>text_clean</th>\n",
              "    </tr>\n",
              "  </thead>\n",
              "  <tbody>\n",
              "    <tr>\n",
              "      <th>0</th>\n",
              "      <td>know shell tire soon</td>\n",
              "      <td>1</td>\n",
              "      <td>[know, shell, tire, soon]</td>\n",
              "    </tr>\n",
              "    <tr>\n",
              "      <th>1</th>\n",
              "      <td>mmmm need toe suck fuck</td>\n",
              "      <td>3</td>\n",
              "      <td>[mmmm, need, toe, suck, fuck]</td>\n",
              "    </tr>\n",
              "    <tr>\n",
              "      <th>2</th>\n",
              "      <td>oh excuse im originally melbourne party id lik...</td>\n",
              "      <td>3</td>\n",
              "      <td>[oh, excuse, im, originally, melbourne, party,...</td>\n",
              "    </tr>\n",
              "    <tr>\n",
              "      <th>3</th>\n",
              "      <td>im excite valentines day im die alone</td>\n",
              "      <td>3</td>\n",
              "      <td>[im, excite, valentines, day, im, die, alone]</td>\n",
              "    </tr>\n",
              "    <tr>\n",
              "      <th>4</th>\n",
              "      <td>hope u guy know u ever need talk someone regar...</td>\n",
              "      <td>2</td>\n",
              "      <td>[hope, u, guy, know, u, ever, need, talk, some...</td>\n",
              "    </tr>\n",
              "    <tr>\n",
              "      <th>...</th>\n",
              "      <td>...</td>\n",
              "      <td>...</td>\n",
              "      <td>...</td>\n",
              "    </tr>\n",
              "    <tr>\n",
              "      <th>19336</th>\n",
              "      <td>Why is trying to kill yourself so hard and sca...</td>\n",
              "      <td>4</td>\n",
              "      <td>[Why, is, trying, to, kill, yourself, so, hard...</td>\n",
              "    </tr>\n",
              "    <tr>\n",
              "      <th>19337</th>\n",
              "      <td>suppose sleep maybe bad idea maybe best idea c...</td>\n",
              "      <td>1</td>\n",
              "      <td>[suppose, sleep, maybe, bad, idea, maybe, best...</td>\n",
              "    </tr>\n",
              "    <tr>\n",
              "      <th>19338</th>\n",
              "      <td>sad thank effort generosity appreciate hop you...</td>\n",
              "      <td>1</td>\n",
              "      <td>[sad, thank, effort, generosity, appreciate, h...</td>\n",
              "    </tr>\n",
              "    <tr>\n",
              "      <th>19339</th>\n",
              "      <td>depend teach people need know deal know fail a...</td>\n",
              "      <td>3</td>\n",
              "      <td>[depend, teach, people, need, know, deal, know...</td>\n",
              "    </tr>\n",
              "    <tr>\n",
              "      <th>19340</th>\n",
              "      <td>help us god salvation help us glory name psalm...</td>\n",
              "      <td>0</td>\n",
              "      <td>[help, us, god, salvation, help, us, glory, na...</td>\n",
              "    </tr>\n",
              "  </tbody>\n",
              "</table>\n",
              "<p>19341 rows × 3 columns</p>\n",
              "</div>\n",
              "      <button class=\"colab-df-convert\" onclick=\"convertToInteractive('df-9cb73a19-6ffb-4e99-9416-81b4b86872bf')\"\n",
              "              title=\"Convert this dataframe to an interactive table.\"\n",
              "              style=\"display:none;\">\n",
              "        \n",
              "  <svg xmlns=\"http://www.w3.org/2000/svg\" height=\"24px\"viewBox=\"0 0 24 24\"\n",
              "       width=\"24px\">\n",
              "    <path d=\"M0 0h24v24H0V0z\" fill=\"none\"/>\n",
              "    <path d=\"M18.56 5.44l.94 2.06.94-2.06 2.06-.94-2.06-.94-.94-2.06-.94 2.06-2.06.94zm-11 1L8.5 8.5l.94-2.06 2.06-.94-2.06-.94L8.5 2.5l-.94 2.06-2.06.94zm10 10l.94 2.06.94-2.06 2.06-.94-2.06-.94-.94-2.06-.94 2.06-2.06.94z\"/><path d=\"M17.41 7.96l-1.37-1.37c-.4-.4-.92-.59-1.43-.59-.52 0-1.04.2-1.43.59L10.3 9.45l-7.72 7.72c-.78.78-.78 2.05 0 2.83L4 21.41c.39.39.9.59 1.41.59.51 0 1.02-.2 1.41-.59l7.78-7.78 2.81-2.81c.8-.78.8-2.07 0-2.86zM5.41 20L4 18.59l7.72-7.72 1.47 1.35L5.41 20z\"/>\n",
              "  </svg>\n",
              "      </button>\n",
              "      \n",
              "  <style>\n",
              "    .colab-df-container {\n",
              "      display:flex;\n",
              "      flex-wrap:wrap;\n",
              "      gap: 12px;\n",
              "    }\n",
              "\n",
              "    .colab-df-convert {\n",
              "      background-color: #E8F0FE;\n",
              "      border: none;\n",
              "      border-radius: 50%;\n",
              "      cursor: pointer;\n",
              "      display: none;\n",
              "      fill: #1967D2;\n",
              "      height: 32px;\n",
              "      padding: 0 0 0 0;\n",
              "      width: 32px;\n",
              "    }\n",
              "\n",
              "    .colab-df-convert:hover {\n",
              "      background-color: #E2EBFA;\n",
              "      box-shadow: 0px 1px 2px rgba(60, 64, 67, 0.3), 0px 1px 3px 1px rgba(60, 64, 67, 0.15);\n",
              "      fill: #174EA6;\n",
              "    }\n",
              "\n",
              "    [theme=dark] .colab-df-convert {\n",
              "      background-color: #3B4455;\n",
              "      fill: #D2E3FC;\n",
              "    }\n",
              "\n",
              "    [theme=dark] .colab-df-convert:hover {\n",
              "      background-color: #434B5C;\n",
              "      box-shadow: 0px 1px 3px 1px rgba(0, 0, 0, 0.15);\n",
              "      filter: drop-shadow(0px 1px 2px rgba(0, 0, 0, 0.3));\n",
              "      fill: #FFFFFF;\n",
              "    }\n",
              "  </style>\n",
              "\n",
              "      <script>\n",
              "        const buttonEl =\n",
              "          document.querySelector('#df-9cb73a19-6ffb-4e99-9416-81b4b86872bf button.colab-df-convert');\n",
              "        buttonEl.style.display =\n",
              "          google.colab.kernel.accessAllowed ? 'block' : 'none';\n",
              "\n",
              "        async function convertToInteractive(key) {\n",
              "          const element = document.querySelector('#df-9cb73a19-6ffb-4e99-9416-81b4b86872bf');\n",
              "          const dataTable =\n",
              "            await google.colab.kernel.invokeFunction('convertToInteractive',\n",
              "                                                     [key], {});\n",
              "          if (!dataTable) return;\n",
              "\n",
              "          const docLinkHtml = 'Like what you see? Visit the ' +\n",
              "            '<a target=\"_blank\" href=https://colab.research.google.com/notebooks/data_table.ipynb>data table notebook</a>'\n",
              "            + ' to learn more about interactive tables.';\n",
              "          element.innerHTML = '';\n",
              "          dataTable['output_type'] = 'display_data';\n",
              "          await google.colab.output.renderOutput(dataTable, element);\n",
              "          const docLink = document.createElement('div');\n",
              "          docLink.innerHTML = docLinkHtml;\n",
              "          element.appendChild(docLink);\n",
              "        }\n",
              "      </script>\n",
              "    </div>\n",
              "  </div>\n",
              "  "
            ]
          },
          "metadata": {},
          "execution_count": 15
        }
      ]
    },
    {
      "cell_type": "markdown",
      "source": [
        "Cleaning the Data"
      ],
      "metadata": {
        "id": "L_EQnHnCba7_"
      }
    },
    {
      "cell_type": "code",
      "source": [
        "# Remove stop words\n",
        "stop_words=set(nltk.corpus.stopwords.words(\"english\"))\n",
        "df['text_clean'] = df['text_clean'].apply(lambda x: [item for item in x if item not in stop_words])\n",
        "print('Stop words removed.')\n",
        "\n",
        "\n",
        "# Remove numbers, punctuation and special characters (only keep words)\n",
        "regex = '[a-z]+'\n",
        "df['text_clean'] = df['text_clean'].apply(lambda x: [item for item in x if re.match(regex, item)])\n",
        "print('Numbers, punctuation and special characters removed.')\n",
        "\n",
        "\n",
        "# Lemmatization \n",
        "lem = nltk.stem.wordnet.WordNetLemmatizer()\n",
        "df['text_clean'] = df['text_clean'].apply(lambda x: [lem.lemmatize(item, pos='v') for item in x])\n",
        "print('Lemmatization complete.\\nData cleaning complete.\\n')"
      ],
      "metadata": {
        "colab": {
          "base_uri": "https://localhost:8080/"
        },
        "id": "fdDGLIQFLXjy",
        "outputId": "39109a59-60d8-4c7f-c138-ba42fb35e5d8"
      },
      "execution_count": null,
      "outputs": [
        {
          "output_type": "stream",
          "name": "stdout",
          "text": [
            "Stop words removed.\n",
            "Numbers, punctuation and special characters removed.\n",
            "Lemmatization complete.\n",
            "Data cleaning complete.\n",
            "\n"
          ]
        }
      ]
    },
    {
      "cell_type": "code",
      "source": [
        "df"
      ],
      "metadata": {
        "id": "kR_HEWNYLh0w",
        "colab": {
          "base_uri": "https://localhost:8080/",
          "height": 423
        },
        "outputId": "2c5a4085-6bfc-4f8a-d73e-64d3f75729a0"
      },
      "execution_count": null,
      "outputs": [
        {
          "output_type": "execute_result",
          "data": {
            "text/plain": [
              "                                                   Tweet  Behaviour  \\\n",
              "0                                   know shell tire soon          1   \n",
              "1                                mmmm need toe suck fuck          3   \n",
              "2      oh excuse im originally melbourne party id lik...          3   \n",
              "3                  im excite valentines day im die alone          3   \n",
              "4      hope u guy know u ever need talk someone regar...          2   \n",
              "...                                                  ...        ...   \n",
              "19336  Why is trying to kill yourself so hard and sca...          4   \n",
              "19337  suppose sleep maybe bad idea maybe best idea c...          1   \n",
              "19338  sad thank effort generosity appreciate hop you...          1   \n",
              "19339  depend teach people need know deal know fail a...          3   \n",
              "19340  help us god salvation help us glory name psalm...          0   \n",
              "\n",
              "                                              text_clean  \n",
              "0                              [know, shell, tire, soon]  \n",
              "1                          [mmmm, need, toe, suck, fuck]  \n",
              "2      [oh, excuse, im, originally, melbourne, party,...  \n",
              "3          [im, excite, valentines, day, im, die, alone]  \n",
              "4      [hope, u, guy, know, u, ever, need, talk, some...  \n",
              "...                                                  ...  \n",
              "19336  [try, kill, hard, scary, try, kill, many, time...  \n",
              "19337  [suppose, sleep, maybe, bad, idea, maybe, best...  \n",
              "19338  [sad, thank, effort, generosity, appreciate, h...  \n",
              "19339  [depend, teach, people, need, know, deal, know...  \n",
              "19340  [help, us, god, salvation, help, us, glory, na...  \n",
              "\n",
              "[19341 rows x 3 columns]"
            ],
            "text/html": [
              "\n",
              "  <div id=\"df-6b3dcec4-19d4-4f94-aacb-d68f874b1178\">\n",
              "    <div class=\"colab-df-container\">\n",
              "      <div>\n",
              "<style scoped>\n",
              "    .dataframe tbody tr th:only-of-type {\n",
              "        vertical-align: middle;\n",
              "    }\n",
              "\n",
              "    .dataframe tbody tr th {\n",
              "        vertical-align: top;\n",
              "    }\n",
              "\n",
              "    .dataframe thead th {\n",
              "        text-align: right;\n",
              "    }\n",
              "</style>\n",
              "<table border=\"1\" class=\"dataframe\">\n",
              "  <thead>\n",
              "    <tr style=\"text-align: right;\">\n",
              "      <th></th>\n",
              "      <th>Tweet</th>\n",
              "      <th>Behaviour</th>\n",
              "      <th>text_clean</th>\n",
              "    </tr>\n",
              "  </thead>\n",
              "  <tbody>\n",
              "    <tr>\n",
              "      <th>0</th>\n",
              "      <td>know shell tire soon</td>\n",
              "      <td>1</td>\n",
              "      <td>[know, shell, tire, soon]</td>\n",
              "    </tr>\n",
              "    <tr>\n",
              "      <th>1</th>\n",
              "      <td>mmmm need toe suck fuck</td>\n",
              "      <td>3</td>\n",
              "      <td>[mmmm, need, toe, suck, fuck]</td>\n",
              "    </tr>\n",
              "    <tr>\n",
              "      <th>2</th>\n",
              "      <td>oh excuse im originally melbourne party id lik...</td>\n",
              "      <td>3</td>\n",
              "      <td>[oh, excuse, im, originally, melbourne, party,...</td>\n",
              "    </tr>\n",
              "    <tr>\n",
              "      <th>3</th>\n",
              "      <td>im excite valentines day im die alone</td>\n",
              "      <td>3</td>\n",
              "      <td>[im, excite, valentines, day, im, die, alone]</td>\n",
              "    </tr>\n",
              "    <tr>\n",
              "      <th>4</th>\n",
              "      <td>hope u guy know u ever need talk someone regar...</td>\n",
              "      <td>2</td>\n",
              "      <td>[hope, u, guy, know, u, ever, need, talk, some...</td>\n",
              "    </tr>\n",
              "    <tr>\n",
              "      <th>...</th>\n",
              "      <td>...</td>\n",
              "      <td>...</td>\n",
              "      <td>...</td>\n",
              "    </tr>\n",
              "    <tr>\n",
              "      <th>19336</th>\n",
              "      <td>Why is trying to kill yourself so hard and sca...</td>\n",
              "      <td>4</td>\n",
              "      <td>[try, kill, hard, scary, try, kill, many, time...</td>\n",
              "    </tr>\n",
              "    <tr>\n",
              "      <th>19337</th>\n",
              "      <td>suppose sleep maybe bad idea maybe best idea c...</td>\n",
              "      <td>1</td>\n",
              "      <td>[suppose, sleep, maybe, bad, idea, maybe, best...</td>\n",
              "    </tr>\n",
              "    <tr>\n",
              "      <th>19338</th>\n",
              "      <td>sad thank effort generosity appreciate hop you...</td>\n",
              "      <td>1</td>\n",
              "      <td>[sad, thank, effort, generosity, appreciate, h...</td>\n",
              "    </tr>\n",
              "    <tr>\n",
              "      <th>19339</th>\n",
              "      <td>depend teach people need know deal know fail a...</td>\n",
              "      <td>3</td>\n",
              "      <td>[depend, teach, people, need, know, deal, know...</td>\n",
              "    </tr>\n",
              "    <tr>\n",
              "      <th>19340</th>\n",
              "      <td>help us god salvation help us glory name psalm...</td>\n",
              "      <td>0</td>\n",
              "      <td>[help, us, god, salvation, help, us, glory, na...</td>\n",
              "    </tr>\n",
              "  </tbody>\n",
              "</table>\n",
              "<p>19341 rows × 3 columns</p>\n",
              "</div>\n",
              "      <button class=\"colab-df-convert\" onclick=\"convertToInteractive('df-6b3dcec4-19d4-4f94-aacb-d68f874b1178')\"\n",
              "              title=\"Convert this dataframe to an interactive table.\"\n",
              "              style=\"display:none;\">\n",
              "        \n",
              "  <svg xmlns=\"http://www.w3.org/2000/svg\" height=\"24px\"viewBox=\"0 0 24 24\"\n",
              "       width=\"24px\">\n",
              "    <path d=\"M0 0h24v24H0V0z\" fill=\"none\"/>\n",
              "    <path d=\"M18.56 5.44l.94 2.06.94-2.06 2.06-.94-2.06-.94-.94-2.06-.94 2.06-2.06.94zm-11 1L8.5 8.5l.94-2.06 2.06-.94-2.06-.94L8.5 2.5l-.94 2.06-2.06.94zm10 10l.94 2.06.94-2.06 2.06-.94-2.06-.94-.94-2.06-.94 2.06-2.06.94z\"/><path d=\"M17.41 7.96l-1.37-1.37c-.4-.4-.92-.59-1.43-.59-.52 0-1.04.2-1.43.59L10.3 9.45l-7.72 7.72c-.78.78-.78 2.05 0 2.83L4 21.41c.39.39.9.59 1.41.59.51 0 1.02-.2 1.41-.59l7.78-7.78 2.81-2.81c.8-.78.8-2.07 0-2.86zM5.41 20L4 18.59l7.72-7.72 1.47 1.35L5.41 20z\"/>\n",
              "  </svg>\n",
              "      </button>\n",
              "      \n",
              "  <style>\n",
              "    .colab-df-container {\n",
              "      display:flex;\n",
              "      flex-wrap:wrap;\n",
              "      gap: 12px;\n",
              "    }\n",
              "\n",
              "    .colab-df-convert {\n",
              "      background-color: #E8F0FE;\n",
              "      border: none;\n",
              "      border-radius: 50%;\n",
              "      cursor: pointer;\n",
              "      display: none;\n",
              "      fill: #1967D2;\n",
              "      height: 32px;\n",
              "      padding: 0 0 0 0;\n",
              "      width: 32px;\n",
              "    }\n",
              "\n",
              "    .colab-df-convert:hover {\n",
              "      background-color: #E2EBFA;\n",
              "      box-shadow: 0px 1px 2px rgba(60, 64, 67, 0.3), 0px 1px 3px 1px rgba(60, 64, 67, 0.15);\n",
              "      fill: #174EA6;\n",
              "    }\n",
              "\n",
              "    [theme=dark] .colab-df-convert {\n",
              "      background-color: #3B4455;\n",
              "      fill: #D2E3FC;\n",
              "    }\n",
              "\n",
              "    [theme=dark] .colab-df-convert:hover {\n",
              "      background-color: #434B5C;\n",
              "      box-shadow: 0px 1px 3px 1px rgba(0, 0, 0, 0.15);\n",
              "      filter: drop-shadow(0px 1px 2px rgba(0, 0, 0, 0.3));\n",
              "      fill: #FFFFFF;\n",
              "    }\n",
              "  </style>\n",
              "\n",
              "      <script>\n",
              "        const buttonEl =\n",
              "          document.querySelector('#df-6b3dcec4-19d4-4f94-aacb-d68f874b1178 button.colab-df-convert');\n",
              "        buttonEl.style.display =\n",
              "          google.colab.kernel.accessAllowed ? 'block' : 'none';\n",
              "\n",
              "        async function convertToInteractive(key) {\n",
              "          const element = document.querySelector('#df-6b3dcec4-19d4-4f94-aacb-d68f874b1178');\n",
              "          const dataTable =\n",
              "            await google.colab.kernel.invokeFunction('convertToInteractive',\n",
              "                                                     [key], {});\n",
              "          if (!dataTable) return;\n",
              "\n",
              "          const docLinkHtml = 'Like what you see? Visit the ' +\n",
              "            '<a target=\"_blank\" href=https://colab.research.google.com/notebooks/data_table.ipynb>data table notebook</a>'\n",
              "            + ' to learn more about interactive tables.';\n",
              "          element.innerHTML = '';\n",
              "          dataTable['output_type'] = 'display_data';\n",
              "          await google.colab.output.renderOutput(dataTable, element);\n",
              "          const docLink = document.createElement('div');\n",
              "          docLink.innerHTML = docLinkHtml;\n",
              "          element.appendChild(docLink);\n",
              "        }\n",
              "      </script>\n",
              "    </div>\n",
              "  </div>\n",
              "  "
            ]
          },
          "metadata": {},
          "execution_count": 17
        }
      ]
    },
    {
      "cell_type": "code",
      "source": [
        "#converting cleaned text into string\n",
        "df['liststring'] = [' '.join(map(str, l)) for l in df['text_clean']]\n",
        "df=df.rename(columns={'text_clean':'text'})\n",
        "df"
      ],
      "metadata": {
        "colab": {
          "base_uri": "https://localhost:8080/",
          "height": 467
        },
        "id": "5SfyVGLl-pEz",
        "outputId": "31062172-dcf4-4101-aba7-e7cf607af969"
      },
      "execution_count": null,
      "outputs": [
        {
          "output_type": "execute_result",
          "data": {
            "text/plain": [
              "                                                   Tweet  Behaviour  \\\n",
              "0                                   know shell tire soon          1   \n",
              "1                                mmmm need toe suck fuck          3   \n",
              "2      oh excuse im originally melbourne party id lik...          3   \n",
              "3                  im excite valentines day im die alone          3   \n",
              "4      hope u guy know u ever need talk someone regar...          2   \n",
              "...                                                  ...        ...   \n",
              "19336  Why is trying to kill yourself so hard and sca...          4   \n",
              "19337  suppose sleep maybe bad idea maybe best idea c...          1   \n",
              "19338  sad thank effort generosity appreciate hop you...          1   \n",
              "19339  depend teach people need know deal know fail a...          3   \n",
              "19340  help us god salvation help us glory name psalm...          0   \n",
              "\n",
              "                                                    text  \\\n",
              "0                              [know, shell, tire, soon]   \n",
              "1                          [mmmm, need, toe, suck, fuck]   \n",
              "2      [oh, excuse, im, originally, melbourne, party,...   \n",
              "3          [im, excite, valentines, day, im, die, alone]   \n",
              "4      [hope, u, guy, know, u, ever, need, talk, some...   \n",
              "...                                                  ...   \n",
              "19336  [try, kill, hard, scary, try, kill, many, time...   \n",
              "19337  [suppose, sleep, maybe, bad, idea, maybe, best...   \n",
              "19338  [sad, thank, effort, generosity, appreciate, h...   \n",
              "19339  [depend, teach, people, need, know, deal, know...   \n",
              "19340  [help, us, god, salvation, help, us, glory, na...   \n",
              "\n",
              "                                              liststring  \n",
              "0                                   know shell tire soon  \n",
              "1                                mmmm need toe suck fuck  \n",
              "2      oh excuse im originally melbourne party id lik...  \n",
              "3                  im excite valentines day im die alone  \n",
              "4      hope u guy know u ever need talk someone regar...  \n",
              "...                                                  ...  \n",
              "19336  try kill hard scary try kill many time lose co...  \n",
              "19337  suppose sleep maybe bad idea maybe best idea c...  \n",
              "19338  sad thank effort generosity appreciate hop you...  \n",
              "19339  depend teach people need know deal know fail a...  \n",
              "19340  help us god salvation help us glory name psalm...  \n",
              "\n",
              "[19341 rows x 4 columns]"
            ],
            "text/html": [
              "\n",
              "  <div id=\"df-8913cde5-4b0a-49c1-89a2-5a2c7f4e15ef\">\n",
              "    <div class=\"colab-df-container\">\n",
              "      <div>\n",
              "<style scoped>\n",
              "    .dataframe tbody tr th:only-of-type {\n",
              "        vertical-align: middle;\n",
              "    }\n",
              "\n",
              "    .dataframe tbody tr th {\n",
              "        vertical-align: top;\n",
              "    }\n",
              "\n",
              "    .dataframe thead th {\n",
              "        text-align: right;\n",
              "    }\n",
              "</style>\n",
              "<table border=\"1\" class=\"dataframe\">\n",
              "  <thead>\n",
              "    <tr style=\"text-align: right;\">\n",
              "      <th></th>\n",
              "      <th>Tweet</th>\n",
              "      <th>Behaviour</th>\n",
              "      <th>text</th>\n",
              "      <th>liststring</th>\n",
              "    </tr>\n",
              "  </thead>\n",
              "  <tbody>\n",
              "    <tr>\n",
              "      <th>0</th>\n",
              "      <td>know shell tire soon</td>\n",
              "      <td>1</td>\n",
              "      <td>[know, shell, tire, soon]</td>\n",
              "      <td>know shell tire soon</td>\n",
              "    </tr>\n",
              "    <tr>\n",
              "      <th>1</th>\n",
              "      <td>mmmm need toe suck fuck</td>\n",
              "      <td>3</td>\n",
              "      <td>[mmmm, need, toe, suck, fuck]</td>\n",
              "      <td>mmmm need toe suck fuck</td>\n",
              "    </tr>\n",
              "    <tr>\n",
              "      <th>2</th>\n",
              "      <td>oh excuse im originally melbourne party id lik...</td>\n",
              "      <td>3</td>\n",
              "      <td>[oh, excuse, im, originally, melbourne, party,...</td>\n",
              "      <td>oh excuse im originally melbourne party id lik...</td>\n",
              "    </tr>\n",
              "    <tr>\n",
              "      <th>3</th>\n",
              "      <td>im excite valentines day im die alone</td>\n",
              "      <td>3</td>\n",
              "      <td>[im, excite, valentines, day, im, die, alone]</td>\n",
              "      <td>im excite valentines day im die alone</td>\n",
              "    </tr>\n",
              "    <tr>\n",
              "      <th>4</th>\n",
              "      <td>hope u guy know u ever need talk someone regar...</td>\n",
              "      <td>2</td>\n",
              "      <td>[hope, u, guy, know, u, ever, need, talk, some...</td>\n",
              "      <td>hope u guy know u ever need talk someone regar...</td>\n",
              "    </tr>\n",
              "    <tr>\n",
              "      <th>...</th>\n",
              "      <td>...</td>\n",
              "      <td>...</td>\n",
              "      <td>...</td>\n",
              "      <td>...</td>\n",
              "    </tr>\n",
              "    <tr>\n",
              "      <th>19336</th>\n",
              "      <td>Why is trying to kill yourself so hard and sca...</td>\n",
              "      <td>4</td>\n",
              "      <td>[try, kill, hard, scary, try, kill, many, time...</td>\n",
              "      <td>try kill hard scary try kill many time lose co...</td>\n",
              "    </tr>\n",
              "    <tr>\n",
              "      <th>19337</th>\n",
              "      <td>suppose sleep maybe bad idea maybe best idea c...</td>\n",
              "      <td>1</td>\n",
              "      <td>[suppose, sleep, maybe, bad, idea, maybe, best...</td>\n",
              "      <td>suppose sleep maybe bad idea maybe best idea c...</td>\n",
              "    </tr>\n",
              "    <tr>\n",
              "      <th>19338</th>\n",
              "      <td>sad thank effort generosity appreciate hop you...</td>\n",
              "      <td>1</td>\n",
              "      <td>[sad, thank, effort, generosity, appreciate, h...</td>\n",
              "      <td>sad thank effort generosity appreciate hop you...</td>\n",
              "    </tr>\n",
              "    <tr>\n",
              "      <th>19339</th>\n",
              "      <td>depend teach people need know deal know fail a...</td>\n",
              "      <td>3</td>\n",
              "      <td>[depend, teach, people, need, know, deal, know...</td>\n",
              "      <td>depend teach people need know deal know fail a...</td>\n",
              "    </tr>\n",
              "    <tr>\n",
              "      <th>19340</th>\n",
              "      <td>help us god salvation help us glory name psalm...</td>\n",
              "      <td>0</td>\n",
              "      <td>[help, us, god, salvation, help, us, glory, na...</td>\n",
              "      <td>help us god salvation help us glory name psalm...</td>\n",
              "    </tr>\n",
              "  </tbody>\n",
              "</table>\n",
              "<p>19341 rows × 4 columns</p>\n",
              "</div>\n",
              "      <button class=\"colab-df-convert\" onclick=\"convertToInteractive('df-8913cde5-4b0a-49c1-89a2-5a2c7f4e15ef')\"\n",
              "              title=\"Convert this dataframe to an interactive table.\"\n",
              "              style=\"display:none;\">\n",
              "        \n",
              "  <svg xmlns=\"http://www.w3.org/2000/svg\" height=\"24px\"viewBox=\"0 0 24 24\"\n",
              "       width=\"24px\">\n",
              "    <path d=\"M0 0h24v24H0V0z\" fill=\"none\"/>\n",
              "    <path d=\"M18.56 5.44l.94 2.06.94-2.06 2.06-.94-2.06-.94-.94-2.06-.94 2.06-2.06.94zm-11 1L8.5 8.5l.94-2.06 2.06-.94-2.06-.94L8.5 2.5l-.94 2.06-2.06.94zm10 10l.94 2.06.94-2.06 2.06-.94-2.06-.94-.94-2.06-.94 2.06-2.06.94z\"/><path d=\"M17.41 7.96l-1.37-1.37c-.4-.4-.92-.59-1.43-.59-.52 0-1.04.2-1.43.59L10.3 9.45l-7.72 7.72c-.78.78-.78 2.05 0 2.83L4 21.41c.39.39.9.59 1.41.59.51 0 1.02-.2 1.41-.59l7.78-7.78 2.81-2.81c.8-.78.8-2.07 0-2.86zM5.41 20L4 18.59l7.72-7.72 1.47 1.35L5.41 20z\"/>\n",
              "  </svg>\n",
              "      </button>\n",
              "      \n",
              "  <style>\n",
              "    .colab-df-container {\n",
              "      display:flex;\n",
              "      flex-wrap:wrap;\n",
              "      gap: 12px;\n",
              "    }\n",
              "\n",
              "    .colab-df-convert {\n",
              "      background-color: #E8F0FE;\n",
              "      border: none;\n",
              "      border-radius: 50%;\n",
              "      cursor: pointer;\n",
              "      display: none;\n",
              "      fill: #1967D2;\n",
              "      height: 32px;\n",
              "      padding: 0 0 0 0;\n",
              "      width: 32px;\n",
              "    }\n",
              "\n",
              "    .colab-df-convert:hover {\n",
              "      background-color: #E2EBFA;\n",
              "      box-shadow: 0px 1px 2px rgba(60, 64, 67, 0.3), 0px 1px 3px 1px rgba(60, 64, 67, 0.15);\n",
              "      fill: #174EA6;\n",
              "    }\n",
              "\n",
              "    [theme=dark] .colab-df-convert {\n",
              "      background-color: #3B4455;\n",
              "      fill: #D2E3FC;\n",
              "    }\n",
              "\n",
              "    [theme=dark] .colab-df-convert:hover {\n",
              "      background-color: #434B5C;\n",
              "      box-shadow: 0px 1px 3px 1px rgba(0, 0, 0, 0.15);\n",
              "      filter: drop-shadow(0px 1px 2px rgba(0, 0, 0, 0.3));\n",
              "      fill: #FFFFFF;\n",
              "    }\n",
              "  </style>\n",
              "\n",
              "      <script>\n",
              "        const buttonEl =\n",
              "          document.querySelector('#df-8913cde5-4b0a-49c1-89a2-5a2c7f4e15ef button.colab-df-convert');\n",
              "        buttonEl.style.display =\n",
              "          google.colab.kernel.accessAllowed ? 'block' : 'none';\n",
              "\n",
              "        async function convertToInteractive(key) {\n",
              "          const element = document.querySelector('#df-8913cde5-4b0a-49c1-89a2-5a2c7f4e15ef');\n",
              "          const dataTable =\n",
              "            await google.colab.kernel.invokeFunction('convertToInteractive',\n",
              "                                                     [key], {});\n",
              "          if (!dataTable) return;\n",
              "\n",
              "          const docLinkHtml = 'Like what you see? Visit the ' +\n",
              "            '<a target=\"_blank\" href=https://colab.research.google.com/notebooks/data_table.ipynb>data table notebook</a>'\n",
              "            + ' to learn more about interactive tables.';\n",
              "          element.innerHTML = '';\n",
              "          dataTable['output_type'] = 'display_data';\n",
              "          await google.colab.output.renderOutput(dataTable, element);\n",
              "          const docLink = document.createElement('div');\n",
              "          docLink.innerHTML = docLinkHtml;\n",
              "          element.appendChild(docLink);\n",
              "        }\n",
              "      </script>\n",
              "    </div>\n",
              "  </div>\n",
              "  "
            ]
          },
          "metadata": {},
          "execution_count": 18
        }
      ]
    },
    {
      "cell_type": "markdown",
      "source": [
        "##Long Short Term Memory (LSTM) for Text Classification"
      ],
      "metadata": {
        "id": "JW7CMzDP27Vg"
      }
    },
    {
      "cell_type": "code",
      "source": [
        "X=df.text\n",
        "y=df.Behaviour"
      ],
      "metadata": {
        "id": "MNTlQgvI4zOl"
      },
      "execution_count": null,
      "outputs": []
    },
    {
      "cell_type": "code",
      "source": [
        "max_len = 500\n",
        "tok = Tokenizer(num_words=2000)\n",
        "tok.fit_on_texts(X)\n",
        "sequences = tok.texts_to_sequences(X)\n",
        "sequences_matrix = sequence.pad_sequences(sequences,maxlen=max_len)"
      ],
      "metadata": {
        "id": "OlUdrd9PmF9Q"
      },
      "execution_count": null,
      "outputs": []
    },
    {
      "cell_type": "code",
      "source": [
        "X_train, X_test, Y_train, Y_test = train_test_split(sequences_matrix, y, test_size=0.2, random_state=2)"
      ],
      "metadata": {
        "id": "jlR885zZmGjY"
      },
      "execution_count": null,
      "outputs": []
    },
    {
      "cell_type": "code",
      "source": [
        "def tensorflow_based_model(): \n",
        "    inputs = Input(name='inputs',shape=[max_len])\n",
        "\n",
        "    layer = Embedding(2000,50,input_length=max_len)(inputs) \n",
        "\n",
        "    layer = LSTM(64)(layer) \n",
        "\n",
        "    layer = Dense(256,name='FC1')(layer) \n",
        "\n",
        "    layer = Activation('relu')(layer) \n",
        "\n",
        "    layer = Dropout(0.5)(layer) \n",
        "\n",
        "    layer = Dense(5,name='out_layer')(layer) \n",
        "  \n",
        "    layer = Activation('softmax')(layer)\n",
        "    \n",
        "    model = Model(inputs=inputs,outputs=layer)\n",
        "    \n",
        "    return model "
      ],
      "metadata": {
        "id": "Kl-kFiSTmGt1"
      },
      "execution_count": null,
      "outputs": []
    },
    {
      "cell_type": "code",
      "source": [
        "#compiling the model\n",
        "model = tensorflow_based_model() \n",
        "model.compile(loss='sparse_categorical_crossentropy',optimizer=RMSprop(),metrics=['accuracy'])"
      ],
      "metadata": {
        "id": "HIZ_afDfmG23"
      },
      "execution_count": null,
      "outputs": []
    },
    {
      "cell_type": "code",
      "source": [
        "history=model.fit(X_train,Y_train,batch_size=80,epochs=6, validation_split=0.1)# here we are starting the training of model by feeding the training data\n",
        "print('Training finished !!')"
      ],
      "metadata": {
        "colab": {
          "base_uri": "https://localhost:8080/"
        },
        "id": "06n402YFmG-O",
        "outputId": "1a60a8bd-17e0-402f-87dd-75cddff2d779"
      },
      "execution_count": null,
      "outputs": [
        {
          "output_type": "stream",
          "name": "stdout",
          "text": [
            "Epoch 1/6\n",
            "175/175 [==============================] - 82s 453ms/step - loss: 0.8751 - accuracy: 0.6340 - val_loss: 1.6128 - val_accuracy: 0.4496\n",
            "Epoch 2/6\n",
            "175/175 [==============================] - 76s 434ms/step - loss: 0.4126 - accuracy: 0.8767 - val_loss: 0.3525 - val_accuracy: 0.8966\n",
            "Epoch 3/6\n",
            "175/175 [==============================] - 76s 436ms/step - loss: 0.3201 - accuracy: 0.9023 - val_loss: 0.3882 - val_accuracy: 0.8798\n",
            "Epoch 4/6\n",
            "175/175 [==============================] - 76s 436ms/step - loss: 0.2904 - accuracy: 0.9105 - val_loss: 0.3634 - val_accuracy: 0.8902\n",
            "Epoch 5/6\n",
            "175/175 [==============================] - 77s 439ms/step - loss: 0.2754 - accuracy: 0.9137 - val_loss: 0.4004 - val_accuracy: 0.8798\n",
            "Epoch 6/6\n",
            "175/175 [==============================] - 76s 434ms/step - loss: 0.2595 - accuracy: 0.9188 - val_loss: 0.3581 - val_accuracy: 0.8902\n",
            "Training finished !!\n"
          ]
        }
      ]
    },
    {
      "cell_type": "code",
      "source": [
        "import tensorflow as tf\n",
        "from tensorflow.keras.models import Model\n",
        "from tensorflow.keras.models import load_model\n",
        "\n",
        "model.save('/content/drive/MyDrive/NLP Project/Data/ClassifyTweets.h5')"
      ],
      "metadata": {
        "id": "wRtCTJn1sFgf"
      },
      "execution_count": null,
      "outputs": []
    },
    {
      "cell_type": "code",
      "source": [
        "print(model.summary())"
      ],
      "metadata": {
        "colab": {
          "base_uri": "https://localhost:8080/"
        },
        "id": "qyY4FcyKsHzx",
        "outputId": "d57fa552-82ef-4f9c-89e0-d0fcf6734ff6"
      },
      "execution_count": null,
      "outputs": [
        {
          "output_type": "stream",
          "name": "stdout",
          "text": [
            "Model: \"model\"\n",
            "_________________________________________________________________\n",
            " Layer (type)                Output Shape              Param #   \n",
            "=================================================================\n",
            " inputs (InputLayer)         [(None, 500)]             0         \n",
            "                                                                 \n",
            " embedding (Embedding)       (None, 500, 50)           100000    \n",
            "                                                                 \n",
            " lstm (LSTM)                 (None, 64)                29440     \n",
            "                                                                 \n",
            " FC1 (Dense)                 (None, 256)               16640     \n",
            "                                                                 \n",
            " activation (Activation)     (None, 256)               0         \n",
            "                                                                 \n",
            " dropout (Dropout)           (None, 256)               0         \n",
            "                                                                 \n",
            " out_layer (Dense)           (None, 5)                 1285      \n",
            "                                                                 \n",
            " activation_1 (Activation)   (None, 5)                 0         \n",
            "                                                                 \n",
            "=================================================================\n",
            "Total params: 147,365\n",
            "Trainable params: 147,365\n",
            "Non-trainable params: 0\n",
            "_________________________________________________________________\n",
            "None\n"
          ]
        }
      ]
    },
    {
      "cell_type": "code",
      "source": [
        "accr1 = model.evaluate(X_test,Y_test)"
      ],
      "metadata": {
        "colab": {
          "base_uri": "https://localhost:8080/"
        },
        "id": "E3FmnTK9sH6_",
        "outputId": "3ed12705-d7f6-4412-d6e6-9e868f208b96"
      },
      "execution_count": null,
      "outputs": [
        {
          "output_type": "stream",
          "name": "stdout",
          "text": [
            "121/121 [==============================] - 8s 64ms/step - loss: 0.3764 - accuracy: 0.8876\n"
          ]
        }
      ]
    },
    {
      "cell_type": "code",
      "source": [
        "print('Test set\\n Accuracy: {:0.2f}'.format(accr1[1]))"
      ],
      "metadata": {
        "colab": {
          "base_uri": "https://localhost:8080/"
        },
        "id": "tAFu2Z7UsKSr",
        "outputId": "97dbc826-fed6-4294-cb9e-c094c2d49a78"
      },
      "execution_count": null,
      "outputs": [
        {
          "output_type": "stream",
          "name": "stdout",
          "text": [
            "Test set\n",
            " Accuracy: 0.89\n"
          ]
        }
      ]
    },
    {
      "cell_type": "code",
      "source": [
        "model=load_model('/content/drive/MyDrive/NLP Project/Data/ClassifyTweets.h5')\n",
        "y_pred = model.predict(X_test)"
      ],
      "metadata": {
        "id": "XZ65YDhZsKXF"
      },
      "execution_count": null,
      "outputs": []
    },
    {
      "cell_type": "code",
      "source": [
        "print(y_pred)"
      ],
      "metadata": {
        "colab": {
          "base_uri": "https://localhost:8080/"
        },
        "id": "QmXh1J94sPKg",
        "outputId": "4cb597e1-04fd-468a-bb19-859814a21bdd"
      },
      "execution_count": null,
      "outputs": [
        {
          "output_type": "stream",
          "name": "stdout",
          "text": [
            "[[9.8393548e-01 7.6770578e-03 7.0287172e-07 7.6583382e-03 7.2833931e-04]\n",
            " [4.5835283e-03 9.9285841e-01 2.5866461e-07 2.5522041e-03 5.6698204e-06]\n",
            " [9.8010373e-01 5.6597469e-03 3.8679224e-07 1.4136305e-02 9.9868652e-05]\n",
            " ...\n",
            " [9.8786420e-01 8.5750874e-03 1.3972289e-07 2.6635411e-03 8.9699303e-04]\n",
            " [9.3318260e-01 4.9538884e-02 1.9092902e-06 1.6960047e-02 3.1664196e-04]\n",
            " [9.4135463e-01 9.0568867e-03 3.7557722e-05 4.0058881e-02 9.4919968e-03]]\n"
          ]
        }
      ]
    },
    {
      "cell_type": "code",
      "source": [
        "preds_classes = np.argmax(y_pred, axis=-1)"
      ],
      "metadata": {
        "id": "JgbRKKUosPOX"
      },
      "execution_count": null,
      "outputs": []
    },
    {
      "cell_type": "markdown",
      "source": [
        "##SVM for Text Classification"
      ],
      "metadata": {
        "id": "YiMdgkyy9nAL"
      }
    },
    {
      "cell_type": "code",
      "source": [
        "df['Tweet'] = df['Tweet'].astype(str)"
      ],
      "metadata": {
        "id": "VkNYFGSFmeTk"
      },
      "execution_count": null,
      "outputs": []
    },
    {
      "cell_type": "code",
      "source": [
        "X=df[\"liststring\"]\n",
        "y=df[\"Behaviour\"]\n",
        "X_train, X_test, y_train, y_test = train_test_split(X,y,test_size = 0.2, random_state =26105111)"
      ],
      "metadata": {
        "id": "LO4qVsnd8Et9"
      },
      "execution_count": null,
      "outputs": []
    },
    {
      "cell_type": "code",
      "source": [
        "vectoriser = TfidfVectorizer(ngram_range=(1,2), max_features=500000)\n",
        "vectoriser.fit(X_train)\n"
      ],
      "metadata": {
        "colab": {
          "base_uri": "https://localhost:8080/"
        },
        "id": "mCKMBCLA8Vmg",
        "outputId": "dd4c944f-09e2-422a-dab7-def19d865507"
      },
      "execution_count": null,
      "outputs": [
        {
          "output_type": "execute_result",
          "data": {
            "text/plain": [
              "TfidfVectorizer(max_features=500000, ngram_range=(1, 2))"
            ]
          },
          "metadata": {},
          "execution_count": 34
        }
      ]
    },
    {
      "cell_type": "code",
      "source": [
        "X_train = vectoriser.transform(X_train)\n",
        "X_test  = vectoriser.transform(X_test)"
      ],
      "metadata": {
        "id": "fCvcBCWl8YWn"
      },
      "execution_count": null,
      "outputs": []
    },
    {
      "cell_type": "code",
      "source": [
        "def model_Evaluate(model):\n",
        "# Predict values for Test dataset\n",
        "  y_pred = model.predict(X_test)\n",
        "# Print the evaluation metrics for the dataset.\n",
        "  print(classification_report(y_test, y_pred))"
      ],
      "metadata": {
        "id": "-BQT_Exv8c22"
      },
      "execution_count": null,
      "outputs": []
    },
    {
      "cell_type": "code",
      "source": [
        "SVCmodel = LinearSVC()\n",
        "SVCmodel.fit(X_train, y_train)\n",
        "model_Evaluate(SVCmodel)\n",
        "y_pred2 = SVCmodel.predict(X_test)\n",
        "print(\"Accuracy: \")\n",
        "print(accuracy_score(y_test, y_pred2))\n",
        "\n",
        "#obtained an accuracy of 80% including depression data, and an accuracy of 88% without including it"
      ],
      "metadata": {
        "colab": {
          "base_uri": "https://localhost:8080/"
        },
        "id": "rCeJ_lZg9Gxf",
        "outputId": "23cbfa60-c3f5-472d-abe0-3121b357f1d3"
      },
      "execution_count": null,
      "outputs": [
        {
          "output_type": "stream",
          "name": "stdout",
          "text": [
            "              precision    recall  f1-score   support\n",
            "\n",
            "           0       0.89      0.89      0.89      1765\n",
            "           1       0.94      0.89      0.91       830\n",
            "           2       1.00      0.31      0.47        13\n",
            "           3       0.84      0.88      0.86      1161\n",
            "           4       0.89      0.76      0.82       100\n",
            "\n",
            "    accuracy                           0.88      3869\n",
            "   macro avg       0.91      0.75      0.79      3869\n",
            "weighted avg       0.88      0.88      0.88      3869\n",
            "\n",
            "Accuracy: \n",
            "0.8821400878780047\n"
          ]
        }
      ]
    },
    {
      "cell_type": "markdown",
      "source": [
        "* By comparing the performance of the LSTM and SVM models on real life tweets, it is observed that theoretically LSTM has a slightly better accuracy than SVM, but SVM performs better on realtime Twitter data."
      ],
      "metadata": {
        "id": "-6HNC-QC6552"
      }
    },
    {
      "cell_type": "markdown",
      "source": [
        "## Scraping Tweets"
      ],
      "metadata": {
        "id": "-4ddYtVz8Xj1"
      }
    },
    {
      "cell_type": "markdown",
      "source": [
        "Import required libraries"
      ],
      "metadata": {
        "id": "0WlcO2IV8Obv"
      }
    },
    {
      "cell_type": "code",
      "source": [
        "import tweepy\n",
        "from tweepy import OAuthHandler\n",
        "import csv"
      ],
      "metadata": {
        "id": "3VB12VAPRfcc"
      },
      "execution_count": null,
      "outputs": []
    },
    {
      "cell_type": "markdown",
      "source": [
        "Predicting mental health state from the user's twitter activity"
      ],
      "metadata": {
        "id": "GOR92IND-yqq"
      }
    },
    {
      "cell_type": "code",
      "source": [
        "access_token= '927758488448540672-V9f1iZ8Xl5u8PRdYuhYzaK3wGpEVd7W'\n",
        "access_token_secret='4QjnM7j7He7Vrca2mSIwWVrMzqZRwbPWyJLHriXhg7jvl'\n",
        "consumer_key='7t3EfDbNx1cdj5KBA6BO38nRp'\n",
        "consumer_secret = 'SKSf1vh0LMqtWAmSpcHlqk2loT2uT5x31zbXUGEKeddELKu7Gj'\n",
        "bearer_token='AAAAAAAAAAAAAAAAAAAAABirbAEAAAAAsbhVcDoV2qJpmsXuQDktPTcRReY%3D4XXHv6gzSj6FmdTGDFwQINEwvcrJVpRpVCiZaQ2kW0XsBwXgEh'\n",
        "\n",
        "auth = OAuthHandler(consumer_key, consumer_secret)\n",
        "auth.set_access_token(access_token, access_token_secret)\n",
        "print(\"Authenticated\")\n"
      ],
      "metadata": {
        "colab": {
          "base_uri": "https://localhost:8080/"
        },
        "id": "lK1oNGGBRm0D",
        "outputId": "1c0e739c-e5c5-4d02-8da8-a81082d85d07"
      },
      "execution_count": null,
      "outputs": [
        {
          "output_type": "stream",
          "name": "stdout",
          "text": [
            "Authenticated\n"
          ]
        }
      ]
    },
    {
      "cell_type": "code",
      "source": [
        "Client=tweepy.Client(bearer_token=bearer_token, consumer_key=consumer_key, consumer_secret=consumer_secret, access_token=access_token, access_token_secret=access_token_secret, wait_on_rate_limit=False)"
      ],
      "metadata": {
        "id": "9mmJ81_6-7Xd"
      },
      "execution_count": null,
      "outputs": []
    },
    {
      "cell_type": "code",
      "source": [
        "try:\n",
        "  temp = Client.get_users_tweets(id='1225603175748685824', start_time='2022-03-01T00:00:00Z', end_time='2022-03-14T00:00:00Z', max_results=100)\n",
        "  length=len(temp[0])\n",
        "  print(len(temp[0]))\n",
        "except:\n",
        "  print(\"Insufficient data to generate report!\")\n"
      ],
      "metadata": {
        "id": "IxXGygNNa2BH",
        "colab": {
          "base_uri": "https://localhost:8080/"
        },
        "outputId": "af41c5bf-f934-4181-ee9e-857488ddbdc8"
      },
      "execution_count": null,
      "outputs": [
        {
          "output_type": "stream",
          "name": "stdout",
          "text": [
            "100\n"
          ]
        }
      ]
    },
    {
      "cell_type": "code",
      "source": [
        "if(length < 40):\n",
        "  temp2 = Client.get_users_tweets(id='1225603175748685824', start_time='2022-03-01T00:00:00Z', end_time='2022-03-28T00:00:00Z', max_results=100)\n",
        "  length=len(temp2[0])\n",
        "  print(len(temp2[0]))"
      ],
      "metadata": {
        "id": "62sE-2FYtlYz"
      },
      "execution_count": null,
      "outputs": []
    },
    {
      "cell_type": "code",
      "source": [
        "csvFile = open('/content/drive/MyDrive/NLP Project/Data/result.csv', 'w', encoding='utf-8')\n",
        "orig_file=csvFile\n",
        "#Use csv writer\n",
        "csvWriter = csv.writer(csvFile)\n",
        "csvWriter.writerow(['Text'])"
      ],
      "metadata": {
        "id": "CsA8qCiWmxZK",
        "colab": {
          "base_uri": "https://localhost:8080/"
        },
        "outputId": "76d5296e-14f4-4f9d-967d-bcb1283b6e80"
      },
      "execution_count": null,
      "outputs": [
        {
          "output_type": "execute_result",
          "data": {
            "text/plain": [
              "6"
            ]
          },
          "metadata": {},
          "execution_count": 43
        }
      ]
    },
    {
      "cell_type": "code",
      "source": [
        "for i in range(length):\n",
        "    csvWriter.writerow([str(temp[0][i])])\n",
        "csvFile.close()"
      ],
      "metadata": {
        "id": "VbRdQCpAm1Ho"
      },
      "execution_count": null,
      "outputs": []
    },
    {
      "cell_type": "code",
      "source": [
        "test_data=pd.read_csv('/content/drive/MyDrive/NLP Project/Data/result.csv', encoding='utf-8')\n",
        "print(test_data)\n",
        "test_data.head()\n",
        "test_data.dropna(inplace = True)\n",
        "test_data.shape\n",
        "\n",
        "tweet_tokenizer = TweetTokenizer()\n",
        "tweet_tokens = []\n",
        "for index, row in test_data.iterrows():\n",
        "    tweet_tokens.append(word_tokenize(str(row['Text'])))\n",
        "test_data['text_clean'] = tweet_tokens\n",
        "print('Tokenization complete.')\n",
        "test_data\n",
        "\n",
        "\n",
        "stop_words=set(nltk.corpus.stopwords.words(\"english\"))\n",
        "test_data['text_clean'] = test_data['text_clean'].apply(lambda x: [item for item in x if item not in stop_words])\n",
        "print('Stop words removed.')\n",
        "\n",
        "\n",
        "\n",
        "test_data['text_clean'] = test_data['text_clean'].apply(lambda x: [item for item in x if re.match(regex, item)])\n",
        "print('Numbers, punctuation and special characters removed.')\n",
        "\n",
        "\n",
        "lem = nltk.stem.wordnet.WordNetLemmatizer()\n",
        "test_data['text_clean'] = test_data['text_clean'].apply(lambda x: [lem.lemmatize(item, pos='v') for item in x])\n",
        "print('Lemmatization complete.\\nData cleaning complete.\\n')\n",
        "\n",
        "\n",
        "test_data['liststring'] = [' '.join(map(str, l)) for l in test_data['text_clean']]\n",
        "test_data['Text'] = test_data['Text'].astype(str)\n",
        "test_data_transform = vectoriser.transform(test_data[\"liststring\"])\n",
        "test_data_transform\n",
        "\n",
        "#make prediction\n",
        "\n",
        "test_pred = SVCmodel.predict(test_data_transform)\n",
        "print(test_data)"
      ],
      "metadata": {
        "id": "Hzk9eWwWnH4i",
        "colab": {
          "base_uri": "https://localhost:8080/"
        },
        "outputId": "8cfbaa83-ce10-421e-fba1-2f7a8a70a467"
      },
      "execution_count": null,
      "outputs": [
        {
          "output_type": "stream",
          "name": "stdout",
          "text": [
            "                                                 Text\n",
            "0                      @CLASHBooks @Eve6 um OF COURSE\n",
            "1   me, after 1 hour of socializing with friends: ...\n",
            "2       rendezvous then I’m through with you, amirite\n",
            "3   being a 90’s teen wasn’t always easy, but noth...\n",
            "4   a jogger, being chased: *ecstatically* i’ve be...\n",
            "..                                                ...\n",
            "95  i will spend all day answering one email then ...\n",
            "96  hear me out: a writer’s retreat for parents wh...\n",
            "97                       @evelyngfrick neighbors!!!!!\n",
            "98  RT @sherrysworld: my friends when i can’t do b...\n",
            "99  @sherrysworld @Jest_Iris @ElaniKitten @showmet...\n",
            "\n",
            "[100 rows x 1 columns]\n",
            "Tokenization complete.\n",
            "Stop words removed.\n",
            "Numbers, punctuation and special characters removed.\n",
            "Lemmatization complete.\n",
            "Data cleaning complete.\n",
            "\n",
            "                                                 Text  \\\n",
            "0                      @CLASHBooks @Eve6 um OF COURSE   \n",
            "1   me, after 1 hour of socializing with friends: ...   \n",
            "2       rendezvous then I’m through with you, amirite   \n",
            "3   being a 90’s teen wasn’t always easy, but noth...   \n",
            "4   a jogger, being chased: *ecstatically* i’ve be...   \n",
            "..                                                ...   \n",
            "95  i will spend all day answering one email then ...   \n",
            "96  hear me out: a writer’s retreat for parents wh...   \n",
            "97                       @evelyngfrick neighbors!!!!!   \n",
            "98  RT @sherrysworld: my friends when i can’t do b...   \n",
            "99  @sherrysworld @Jest_Iris @ElaniKitten @showmet...   \n",
            "\n",
            "                                           text_clean  \\\n",
            "0                                                [um]   \n",
            "1     [hour, socialize, friends, ok, fine, extrovert]   \n",
            "2                               [rendezvous, amirite]   \n",
            "3   [teen, always, easy, nothing, hit, like, finge...   \n",
            "4                 [jogger, chase, train, whole, life]   \n",
            "..                                                ...   \n",
            "95  [spend, day, answer, one, email, look, mirror,...   \n",
            "96  [hear, writer, retreat, parent, step, magical,...   \n",
            "97                           [evelyngfrick, neighbor]   \n",
            "98        [sherrysworld, friends, basic, math, https]   \n",
            "99  [sherrysworld, showmetheyamz, itspushpush, the...   \n",
            "\n",
            "                                           liststring  \n",
            "0                                                  um  \n",
            "1            hour socialize friends ok fine extrovert  \n",
            "2                                  rendezvous amirite  \n",
            "3   teen always easy nothing hit like finger first...  \n",
            "4                       jogger chase train whole life  \n",
            "..                                                ...  \n",
            "95  spend day answer one email look mirror like queen  \n",
            "96  hear writer retreat parent step magical vortex...  \n",
            "97                              evelyngfrick neighbor  \n",
            "98              sherrysworld friends basic math https  \n",
            "99  sherrysworld showmetheyamz itspushpush theDapp...  \n",
            "\n",
            "[100 rows x 3 columns]\n"
          ]
        }
      ]
    },
    {
      "cell_type": "code",
      "source": [
        "# X=test_data['text_clean']\n",
        "\n",
        "# max_len = 500\n",
        "# tok = Tokenizer(num_words=2000)\n",
        "# tok.fit_on_texts(X)\n",
        "# sequences = tok.texts_to_sequences(X)\n",
        "# sequences_matrix = sequence.pad_sequences(sequences,maxlen=max_len)"
      ],
      "metadata": {
        "id": "GypGttllyuWD"
      },
      "execution_count": null,
      "outputs": []
    },
    {
      "cell_type": "code",
      "source": [
        "#pred = model.predict(sequences_matrix)"
      ],
      "metadata": {
        "id": "o-GndTDry1jB"
      },
      "execution_count": null,
      "outputs": []
    },
    {
      "cell_type": "code",
      "source": [
        "#test_pred = np.argmax(pred, axis=-1)"
      ],
      "metadata": {
        "id": "G05Z-x8-y1n-"
      },
      "execution_count": null,
      "outputs": []
    },
    {
      "cell_type": "code",
      "source": [
        "total= len(test_pred)\n",
        "print(total)\n",
        "unique, counts = np.unique(test_pred, return_counts=True)\n",
        "print(unique, counts)\n",
        "print(np.asarray((unique, counts)).T)"
      ],
      "metadata": {
        "colab": {
          "base_uri": "https://localhost:8080/"
        },
        "id": "TUtGzd_Py1rW",
        "outputId": "227e9d05-2ef4-47dd-a7e2-6c1d1187257b"
      },
      "execution_count": null,
      "outputs": [
        {
          "output_type": "stream",
          "name": "stdout",
          "text": [
            "100\n",
            "[0 1 3 4] [84  5  7  4]\n",
            "[[ 0 84]\n",
            " [ 1  5]\n",
            " [ 3  7]\n",
            " [ 4  4]]\n"
          ]
        }
      ]
    },
    {
      "cell_type": "code",
      "source": [
        "final_result= pd.read_csv('/content/drive/MyDrive/NLP Project/Data/result.csv')\n",
        "final_result[\"labels\"]=test_pred\n",
        "final_result.rename(columns = {'b\\'Text\\'':'tweet'}, inplace = True)"
      ],
      "metadata": {
        "id": "iGBFy94Ox3jZ"
      },
      "execution_count": null,
      "outputs": []
    },
    {
      "cell_type": "code",
      "source": [
        "final_result"
      ],
      "metadata": {
        "id": "SZ0gX_S_2OAz",
        "colab": {
          "base_uri": "https://localhost:8080/",
          "height": 423
        },
        "outputId": "6226a028-71d6-42c9-8083-30909f08179e"
      },
      "execution_count": null,
      "outputs": [
        {
          "output_type": "execute_result",
          "data": {
            "text/plain": [
              "                                                 Text  labels\n",
              "0                      @CLASHBooks @Eve6 um OF COURSE       0\n",
              "1   me, after 1 hour of socializing with friends: ...       0\n",
              "2       rendezvous then I’m through with you, amirite       0\n",
              "3   being a 90’s teen wasn’t always easy, but noth...       1\n",
              "4   a jogger, being chased: *ecstatically* i’ve be...       0\n",
              "..                                                ...     ...\n",
              "95  i will spend all day answering one email then ...       0\n",
              "96  hear me out: a writer’s retreat for parents wh...       0\n",
              "97                       @evelyngfrick neighbors!!!!!       0\n",
              "98  RT @sherrysworld: my friends when i can’t do b...       4\n",
              "99  @sherrysworld @Jest_Iris @ElaniKitten @showmet...       0\n",
              "\n",
              "[100 rows x 2 columns]"
            ],
            "text/html": [
              "\n",
              "  <div id=\"df-48d6cb67-76d7-4ae4-872f-0af68d35e462\">\n",
              "    <div class=\"colab-df-container\">\n",
              "      <div>\n",
              "<style scoped>\n",
              "    .dataframe tbody tr th:only-of-type {\n",
              "        vertical-align: middle;\n",
              "    }\n",
              "\n",
              "    .dataframe tbody tr th {\n",
              "        vertical-align: top;\n",
              "    }\n",
              "\n",
              "    .dataframe thead th {\n",
              "        text-align: right;\n",
              "    }\n",
              "</style>\n",
              "<table border=\"1\" class=\"dataframe\">\n",
              "  <thead>\n",
              "    <tr style=\"text-align: right;\">\n",
              "      <th></th>\n",
              "      <th>Text</th>\n",
              "      <th>labels</th>\n",
              "    </tr>\n",
              "  </thead>\n",
              "  <tbody>\n",
              "    <tr>\n",
              "      <th>0</th>\n",
              "      <td>@CLASHBooks @Eve6 um OF COURSE</td>\n",
              "      <td>0</td>\n",
              "    </tr>\n",
              "    <tr>\n",
              "      <th>1</th>\n",
              "      <td>me, after 1 hour of socializing with friends: ...</td>\n",
              "      <td>0</td>\n",
              "    </tr>\n",
              "    <tr>\n",
              "      <th>2</th>\n",
              "      <td>rendezvous then I’m through with you, amirite</td>\n",
              "      <td>0</td>\n",
              "    </tr>\n",
              "    <tr>\n",
              "      <th>3</th>\n",
              "      <td>being a 90’s teen wasn’t always easy, but noth...</td>\n",
              "      <td>1</td>\n",
              "    </tr>\n",
              "    <tr>\n",
              "      <th>4</th>\n",
              "      <td>a jogger, being chased: *ecstatically* i’ve be...</td>\n",
              "      <td>0</td>\n",
              "    </tr>\n",
              "    <tr>\n",
              "      <th>...</th>\n",
              "      <td>...</td>\n",
              "      <td>...</td>\n",
              "    </tr>\n",
              "    <tr>\n",
              "      <th>95</th>\n",
              "      <td>i will spend all day answering one email then ...</td>\n",
              "      <td>0</td>\n",
              "    </tr>\n",
              "    <tr>\n",
              "      <th>96</th>\n",
              "      <td>hear me out: a writer’s retreat for parents wh...</td>\n",
              "      <td>0</td>\n",
              "    </tr>\n",
              "    <tr>\n",
              "      <th>97</th>\n",
              "      <td>@evelyngfrick neighbors!!!!!</td>\n",
              "      <td>0</td>\n",
              "    </tr>\n",
              "    <tr>\n",
              "      <th>98</th>\n",
              "      <td>RT @sherrysworld: my friends when i can’t do b...</td>\n",
              "      <td>4</td>\n",
              "    </tr>\n",
              "    <tr>\n",
              "      <th>99</th>\n",
              "      <td>@sherrysworld @Jest_Iris @ElaniKitten @showmet...</td>\n",
              "      <td>0</td>\n",
              "    </tr>\n",
              "  </tbody>\n",
              "</table>\n",
              "<p>100 rows × 2 columns</p>\n",
              "</div>\n",
              "      <button class=\"colab-df-convert\" onclick=\"convertToInteractive('df-48d6cb67-76d7-4ae4-872f-0af68d35e462')\"\n",
              "              title=\"Convert this dataframe to an interactive table.\"\n",
              "              style=\"display:none;\">\n",
              "        \n",
              "  <svg xmlns=\"http://www.w3.org/2000/svg\" height=\"24px\"viewBox=\"0 0 24 24\"\n",
              "       width=\"24px\">\n",
              "    <path d=\"M0 0h24v24H0V0z\" fill=\"none\"/>\n",
              "    <path d=\"M18.56 5.44l.94 2.06.94-2.06 2.06-.94-2.06-.94-.94-2.06-.94 2.06-2.06.94zm-11 1L8.5 8.5l.94-2.06 2.06-.94-2.06-.94L8.5 2.5l-.94 2.06-2.06.94zm10 10l.94 2.06.94-2.06 2.06-.94-2.06-.94-.94-2.06-.94 2.06-2.06.94z\"/><path d=\"M17.41 7.96l-1.37-1.37c-.4-.4-.92-.59-1.43-.59-.52 0-1.04.2-1.43.59L10.3 9.45l-7.72 7.72c-.78.78-.78 2.05 0 2.83L4 21.41c.39.39.9.59 1.41.59.51 0 1.02-.2 1.41-.59l7.78-7.78 2.81-2.81c.8-.78.8-2.07 0-2.86zM5.41 20L4 18.59l7.72-7.72 1.47 1.35L5.41 20z\"/>\n",
              "  </svg>\n",
              "      </button>\n",
              "      \n",
              "  <style>\n",
              "    .colab-df-container {\n",
              "      display:flex;\n",
              "      flex-wrap:wrap;\n",
              "      gap: 12px;\n",
              "    }\n",
              "\n",
              "    .colab-df-convert {\n",
              "      background-color: #E8F0FE;\n",
              "      border: none;\n",
              "      border-radius: 50%;\n",
              "      cursor: pointer;\n",
              "      display: none;\n",
              "      fill: #1967D2;\n",
              "      height: 32px;\n",
              "      padding: 0 0 0 0;\n",
              "      width: 32px;\n",
              "    }\n",
              "\n",
              "    .colab-df-convert:hover {\n",
              "      background-color: #E2EBFA;\n",
              "      box-shadow: 0px 1px 2px rgba(60, 64, 67, 0.3), 0px 1px 3px 1px rgba(60, 64, 67, 0.15);\n",
              "      fill: #174EA6;\n",
              "    }\n",
              "\n",
              "    [theme=dark] .colab-df-convert {\n",
              "      background-color: #3B4455;\n",
              "      fill: #D2E3FC;\n",
              "    }\n",
              "\n",
              "    [theme=dark] .colab-df-convert:hover {\n",
              "      background-color: #434B5C;\n",
              "      box-shadow: 0px 1px 3px 1px rgba(0, 0, 0, 0.15);\n",
              "      filter: drop-shadow(0px 1px 2px rgba(0, 0, 0, 0.3));\n",
              "      fill: #FFFFFF;\n",
              "    }\n",
              "  </style>\n",
              "\n",
              "      <script>\n",
              "        const buttonEl =\n",
              "          document.querySelector('#df-48d6cb67-76d7-4ae4-872f-0af68d35e462 button.colab-df-convert');\n",
              "        buttonEl.style.display =\n",
              "          google.colab.kernel.accessAllowed ? 'block' : 'none';\n",
              "\n",
              "        async function convertToInteractive(key) {\n",
              "          const element = document.querySelector('#df-48d6cb67-76d7-4ae4-872f-0af68d35e462');\n",
              "          const dataTable =\n",
              "            await google.colab.kernel.invokeFunction('convertToInteractive',\n",
              "                                                     [key], {});\n",
              "          if (!dataTable) return;\n",
              "\n",
              "          const docLinkHtml = 'Like what you see? Visit the ' +\n",
              "            '<a target=\"_blank\" href=https://colab.research.google.com/notebooks/data_table.ipynb>data table notebook</a>'\n",
              "            + ' to learn more about interactive tables.';\n",
              "          element.innerHTML = '';\n",
              "          dataTable['output_type'] = 'display_data';\n",
              "          await google.colab.output.renderOutput(dataTable, element);\n",
              "          const docLink = document.createElement('div');\n",
              "          docLink.innerHTML = docLinkHtml;\n",
              "          element.appendChild(docLink);\n",
              "        }\n",
              "      </script>\n",
              "    </div>\n",
              "  </div>\n",
              "  "
            ]
          },
          "metadata": {},
          "execution_count": 51
        }
      ]
    },
    {
      "cell_type": "code",
      "source": [
        "final_result.to_csv('/content/drive/MyDrive/NLP Project/Data/result.csv')"
      ],
      "metadata": {
        "id": "bMHgxQxj29rh"
      },
      "execution_count": null,
      "outputs": []
    },
    {
      "cell_type": "markdown",
      "source": [
        "#CONVERSATIONAL UI"
      ],
      "metadata": {
        "id": "xMVDyE7OnMBc"
      }
    },
    {
      "cell_type": "code",
      "source": [
        "!pip install chatterbot\n",
        "!pip install chatterbot-corpus"
      ],
      "metadata": {
        "colab": {
          "base_uri": "https://localhost:8080/"
        },
        "id": "xJ-9iOOhnPBQ",
        "outputId": "5d71a9e4-e5f6-409d-d01f-0178576fe6b8"
      },
      "execution_count": null,
      "outputs": [
        {
          "output_type": "stream",
          "name": "stdout",
          "text": [
            "Collecting chatterbot\n",
            "  Downloading ChatterBot-1.0.8-py2.py3-none-any.whl (63 kB)\n",
            "\u001b[?25l\r\u001b[K     |█████▏                          | 10 kB 20.6 MB/s eta 0:00:01\r\u001b[K     |██████████▎                     | 20 kB 11.2 MB/s eta 0:00:01\r\u001b[K     |███████████████▌                | 30 kB 9.0 MB/s eta 0:00:01\r\u001b[K     |████████████████████▋           | 40 kB 8.5 MB/s eta 0:00:01\r\u001b[K     |█████████████████████████▊      | 51 kB 5.1 MB/s eta 0:00:01\r\u001b[K     |███████████████████████████████ | 61 kB 5.6 MB/s eta 0:00:01\r\u001b[K     |████████████████████████████████| 63 kB 1.6 MB/s \n",
            "\u001b[?25hCollecting mathparse<0.2,>=0.1\n",
            "  Downloading mathparse-0.1.2-py3-none-any.whl (7.2 kB)\n",
            "Collecting sqlalchemy<1.4,>=1.3\n",
            "  Downloading SQLAlchemy-1.3.24-cp37-cp37m-manylinux2010_x86_64.whl (1.3 MB)\n",
            "\u001b[K     |████████████████████████████████| 1.3 MB 10.8 MB/s \n",
            "\u001b[?25hRequirement already satisfied: python-dateutil<2.9,>=2.8 in /usr/local/lib/python3.7/dist-packages (from chatterbot) (2.8.2)\n",
            "Requirement already satisfied: pytz in /usr/local/lib/python3.7/dist-packages (from chatterbot) (2022.1)\n",
            "Requirement already satisfied: six>=1.5 in /usr/local/lib/python3.7/dist-packages (from python-dateutil<2.9,>=2.8->chatterbot) (1.15.0)\n",
            "Installing collected packages: sqlalchemy, mathparse, chatterbot\n",
            "  Attempting uninstall: sqlalchemy\n",
            "    Found existing installation: SQLAlchemy 1.4.35\n",
            "    Uninstalling SQLAlchemy-1.4.35:\n",
            "      Successfully uninstalled SQLAlchemy-1.4.35\n",
            "Successfully installed chatterbot-1.0.8 mathparse-0.1.2 sqlalchemy-1.3.24\n",
            "Collecting chatterbot-corpus\n",
            "  Downloading chatterbot_corpus-1.2.0-py2.py3-none-any.whl (117 kB)\n",
            "\u001b[K     |████████████████████████████████| 117 kB 5.1 MB/s \n",
            "\u001b[?25hRequirement already satisfied: PyYAML<4.0,>=3.12 in /usr/local/lib/python3.7/dist-packages (from chatterbot-corpus) (3.13)\n",
            "Installing collected packages: chatterbot-corpus\n",
            "Successfully installed chatterbot-corpus-1.2.0\n"
          ]
        }
      ]
    },
    {
      "cell_type": "code",
      "source": [
        "import nltk\n",
        "import re\n",
        "\n",
        "import pickle\n",
        "import tensorflow as tf\n",
        "import tensorflow_hub as hub\n",
        "import numpy as np \n",
        "import pandas as pd\n",
        "\n",
        "from chatterbot import ChatBot\n",
        "from chatterbot.trainers import ChatterBotCorpusTrainer\n",
        "from sklearn.metrics.pairwise import cosine_similarity\n",
        "\n",
        "from nltk.corpus import stopwords\n",
        "from nltk.tokenize import word_tokenize, sent_tokenize\n",
        "nltk.download('punkt')"
      ],
      "metadata": {
        "colab": {
          "base_uri": "https://localhost:8080/"
        },
        "id": "fSW3vATlnSiB",
        "outputId": "5f5baa30-571d-4141-fe53-8571f2d58e45"
      },
      "execution_count": null,
      "outputs": [
        {
          "output_type": "stream",
          "name": "stdout",
          "text": [
            "[nltk_data] Downloading package punkt to /root/nltk_data...\n",
            "[nltk_data]   Package punkt is already up-to-date!\n"
          ]
        },
        {
          "output_type": "execute_result",
          "data": {
            "text/plain": [
              "True"
            ]
          },
          "metadata": {},
          "execution_count": 54
        }
      ]
    },
    {
      "cell_type": "markdown",
      "source": [
        "## Function to summarize answers"
      ],
      "metadata": {
        "id": "p7kugKa2nhSG"
      }
    },
    {
      "cell_type": "code",
      "source": [
        "def summary(text):\n",
        "  stop_words = set(stopwords.words(\"english\"))\n",
        "\n",
        "  words = word_tokenize(text)\n",
        "  freqTable = dict()\n",
        "  for word in words:\n",
        "    word = word.lower()\n",
        "    if word in stop_words:\n",
        "      continue\n",
        "    if word in freqTable:\n",
        "      freqTable[word] += 1\n",
        "    else:\n",
        "      freqTable[word] = 1\n",
        "\n",
        "  sentences = sent_tokenize(text)\n",
        "  sentenceValue = dict()\n",
        "  for sentence in sentences:\n",
        "    for word, freq in freqTable.items():\n",
        "      if word in sentence.lower():\n",
        "        if sentence in sentenceValue:\n",
        "          sentenceValue[sentence] += freq\n",
        "        else:\n",
        "          sentenceValue[sentence] = freq\n",
        "\n",
        "  temp={k: v for k, v in sorted(sentenceValue.items(), key=lambda item: item[1])}\n",
        "  keys=list(temp)\n",
        "  summary= str(keys[-1])+str(keys[-2])+str(keys[-3])\n",
        "\n",
        "  return summary"
      ],
      "metadata": {
        "id": "MhRO1nS4nVLu"
      },
      "execution_count": null,
      "outputs": []
    },
    {
      "cell_type": "markdown",
      "source": [
        "##Dialogue Manager"
      ],
      "metadata": {
        "id": "AgOdIHDHnlP8"
      }
    },
    {
      "cell_type": "code",
      "source": [
        "df = pd.read_csv('/content/drive/MyDrive/NLP Project/Data/Mental_Health_FAQ.csv')\n",
        "df_report = pd.read_csv('/content/drive/MyDrive/NLP Project/Data/Report_corpus.csv')\n",
        "\n",
        "module_url = \"https://tfhub.dev/google/universal-sentence-encoder/4\"\n",
        "model = hub.load(module_url)\n",
        "def embed(input):\n",
        "  return np.array(model([input]))\n",
        "df['Question_Vector'] = df.Questions.map(embed)\n",
        "df_report['Question_Vector'] = df_report.Questions.map(embed)\n",
        "pickle.dump(df, open('dataset.pkl', 'wb'))\n",
        "pickle.dump(df_report, open('dataset_report.pkl', 'wb'))\n",
        "\n",
        "\n",
        "tp_df = pd.read_csv('/content/drive/MyDrive/NLP Project/Data/result.csv')\n",
        "  \n",
        "        \n",
        "class DialogueManager(object):\n",
        "    def __init__(self):\n",
        " \n",
        "        \n",
        "        self.model = hub.load(\"https://tfhub.dev/google/universal-sentence-encoder/4\")\n",
        "        self.dataset = pickle.load(open('dataset.pkl', mode='rb'))\n",
        "        self.dataset_report = pickle.load(open('dataset_report.pkl', mode='rb'))\n",
        "         \n",
        "        self.QUESTION_VECTORS =  self.dataset.Question_Vector \n",
        "        self.REPORT_QUESTION_VECTORS =  self.dataset_report.Question_Vector \n",
        "        self.COSINE_THRESHOLD = 0.6\n",
        "        \n",
        "        self.chitchat_bot = ChatBot(\"Chatterbot\")       \n",
        "        trainer = ChatterBotCorpusTrainer(self.chitchat_bot)\n",
        "        trainer.train(\"chatterbot.corpus.english\")\n",
        " \n",
        "         \n",
        "    def embed(self,input):\n",
        "        return np.array(self.model([input]))         \n",
        "    \n",
        "        \n",
        "    def semantic_search(self, query):\n",
        "        query_vec = self.embed(query)\n",
        "        sims = dict()\n",
        "        index=0\n",
        "        for que_vec  in self.QUESTION_VECTORS:            \n",
        "            sim =  cosine_similarity(que_vec, query_vec)\n",
        "            sims[index]=sim[0][0]\n",
        "            index=index+1\n",
        "\n",
        "        temp = {k: v for k, v in sorted(sims.items(), key=lambda item: item[1])}\n",
        "        key=list(temp)\n",
        "        val=temp.values()\n",
        "        val=list(val)\n",
        "        keylist=[key[-1], key[-2], key[-3]]\n",
        "        val_list=[val[-1],val[-2],val[-3]]\n",
        "        return keylist, val_list\n",
        "\n",
        "    def report_semantic_search(self, query):\n",
        "        query_vec = self.embed(query)\n",
        "        sims = []\n",
        "        for que_vec  in self.REPORT_QUESTION_VECTORS:            \n",
        "            sim =  cosine_similarity(que_vec, query_vec)\n",
        "            sims.append(sim)\n",
        "        max_ind = sims.index(max(sims))\n",
        "        return max_ind,sims[max_ind][0][0] \n",
        "\n",
        "    def generate_answer(self, question):\n",
        "        \n",
        "        ind, most_relevant_sim_score = self.semantic_search(question)\n",
        "        report_ind, report_most_relevant_sim_score = self.report_semantic_search(question)\n",
        "         \n",
        "        if report_most_relevant_sim_score >= self.COSINE_THRESHOLD:\n",
        "            answer=self.dataset_report.Answers[report_ind] \n",
        "  \n",
        "\n",
        "            if \" normal\" in question.lower() or \" yellow\" in question.lower():\n",
        "              for i, row in tp_df.iterrows():\n",
        "                if row['labels'] == 0:\n",
        "                  answer += \"\\n\"+row['Text'] + \"\\n\\n\"\n",
        "            elif \" stressed\" in question.lower() or \" blue\" in question.lower():\n",
        "              for i, row in tp_df.iterrows():\n",
        "                if row['labels'] == 1:\n",
        "                  answer+=\"\\n\"+row['Text'] + \"\\n\\n\"\n",
        "            elif \" lonely\" in question.lower() or \" gray\" in question.lower():\n",
        "              for i, row in tp_df.iterrows():\n",
        "                if row['labels'] == 2:\n",
        "                  answer+=\"\\n\"+row['Text'] + \"\\n\\n\"\n",
        "            elif \" anxious\" in question.lower() or \" green\" in question.lower():\n",
        "              for i, row in tp_df.iterrows():\n",
        "                if row['labels'] == 3:\n",
        "                  answer+=\"\\n\"+row['Text'] + \"\\n\\n\"           \n",
        "            elif \"suicidal\" in question.lower() or \" red\" in question.lower():\n",
        "              for i, row in tp_df.iterrows():\n",
        "                if row['labels'] == 4:\n",
        "                  answer+=\"\\n\"+row['Text'] + \"\\n\\n\"\n",
        "            #elif \"depressed\" in question.lower():\n",
        "              #for i, row in tp_df.iterrows():\n",
        "                #if row['labels'] == 5:\n",
        "                  #answer+=row['Text'] + \"\\n\\n\"\n",
        "        elif sum(most_relevant_sim_score)/len(most_relevant_sim_score) >= self.COSINE_THRESHOLD: \n",
        "            answer = str(self.dataset.Answers[ind[0]]) + str(self.dataset.Answers[ind[1]]) + str(self.dataset.Answers[ind[2]])\n",
        "            answer = summary(answer)\n",
        " \n",
        "\n",
        "        else:\n",
        "            answer = self.chitchat_bot.get_response(question)\n",
        "        return answer"
      ],
      "metadata": {
        "id": "PaISswApnX4y"
      },
      "execution_count": null,
      "outputs": []
    },
    {
      "cell_type": "code",
      "source": [
        "dialogue_manager = DialogueManager()"
      ],
      "metadata": {
        "colab": {
          "base_uri": "https://localhost:8080/"
        },
        "id": "6W_jOiUQnahC",
        "outputId": "a0c79b39-8d95-454a-bc58-8d939455807f"
      },
      "execution_count": null,
      "outputs": [
        {
          "output_type": "stream",
          "name": "stdout",
          "text": [
            "Training ai.yml: [####################] 100%\n",
            "Training botprofile.yml: [####################] 100%\n",
            "Training computers.yml: [####################] 100%\n",
            "Training conversations.yml: [####################] 100%\n",
            "Training emotion.yml: [####################] 100%\n",
            "Training food.yml: [####################] 100%\n",
            "Training gossip.yml: [####################] 100%\n",
            "Training greetings.yml: [####################] 100%\n",
            "Training health.yml: [####################] 100%\n",
            "Training history.yml: [####################] 100%\n",
            "Training humor.yml: [####################] 100%\n",
            "Training literature.yml: [####################] 100%\n",
            "Training money.yml: [####################] 100%\n",
            "Training movies.yml: [####################] 100%\n",
            "Training politics.yml: [####################] 100%\n",
            "Training psychology.yml: [####################] 100%\n",
            "Training science.yml: [####################] 100%\n",
            "Training sports.yml: [####################] 100%\n",
            "Training trivia.yml: [####################] 100%\n"
          ]
        }
      ]
    },
    {
      "cell_type": "code",
      "source": [
        "#test_pred=tp_df['labels']\n",
        "#total= len(test_pred)\n",
        "#print(total)\n",
        "#unique, counts = np.unique(test_pred, return_counts=True)\n",
        "report = dict()\n",
        "for i in range(len(unique)):\n",
        "  percentage = round((counts[i]/total)*100,2)\n",
        "\n",
        "  for key, val in label_dict.items():\n",
        "    if val==unique[i]:\n",
        "      report[key]= str(percentage)\n",
        "\n",
        "\n",
        "import matplotlib.pyplot as plt\n",
        "\n",
        "y=np.array(list(report.values())).astype(float)\n",
        "mylabels = report.keys()\n",
        "\n",
        "labels = [f'{l}, {s:0.1f}%' for l, s in zip(mylabels, y)]\n",
        " \n",
        "\n",
        "\n",
        "colours = {'Normal': 'gold',\n",
        "           'Anxious': 'green',\n",
        "           'Lonely': 'darkgray',\n",
        "           'Stressed': 'blue',\n",
        "           'Suicidal': 'red'}\n",
        "\n",
        "plt.figure(figsize=(4,4))\n",
        "plt.pie(y,\n",
        "          labels=mylabels, textprops={\"fontsize\":16},\n",
        "          colors=[colours[key] for key in mylabels])\n",
        "plt.legend(bbox_to_anchor=(0.85, 1), loc='upper left', labels=labels, fontsize=14)\n",
        "plt.title('Mental Health Status Report', fontsize=20)\n",
        "plt.show() \n",
        "\n",
        "#userText=\"\"\n",
        "while(True):\n",
        "  userText=input()\n",
        "  if(userText==\"bye!\"):\n",
        "    break\n",
        "  response=str(dialogue_manager.generate_answer(userText))\n",
        "  print(response)\n",
        "  print(\"\\n\")\n"
      ],
      "metadata": {
        "id": "yrS65QqJxPCI",
        "colab": {
          "base_uri": "https://localhost:8080/",
          "height": 1000
        },
        "outputId": "fb1f8f5b-c20e-4559-ad1d-8393c8e82059"
      },
      "execution_count": null,
      "outputs": [
        {
          "output_type": "display_data",
          "data": {
            "text/plain": [
              "<Figure size 288x288 with 1 Axes>"
            ],
            "image/png": "[encoded data removed]"
          },
          "metadata": {}
        },
        {
          "name": "stdout",
          "output_type": "stream",
          "text": [
            "Hi\n",
            "How are you doing?\n",
            "\n",
            "\n",
            "Why does the report say I'm anxious?\n",
            "The following posts that you liked indicated that you might have been anxious:\n",
            "*FORMERLY. although I can see how formally could work too lol\n",
            "\n",
            "\n",
            "RT @Dobrenkz: feeling more helpless by the day w everything in ukraine...realizing that helping in some small way is better than doing noth…\n",
            "\n",
            "\n",
            "“this too shall pass” ok but could it pass a little more quickly\n",
            "\n",
            "\n",
            "i need to admit something im ashamed of. first thing I’m doing when my kids get vaccinated is KARAOKE. unfollow if u must\n",
            "\n",
            "\n",
            "Disney: we support gays but not as much as we love money :) hope that’s clear :)\n",
            "\n",
            "\n",
            "today i learned I can get my kid to do ANYTHING she doesn’t wanna do if I make it a race. brushing her teeth? a race. putting on jammies? a race. putting away my laundry while I lay on the bed like a queen pointing at appropriate drawers? A MOTHER FUCKING RACE\n",
            "\n",
            "\n",
            "in these challenging times, it’s important to remember that although we’re divided by class, race, and political/ideological differences, we’re all united by one thing. we all love dinosaurs\n",
            "\n",
            "\n",
            "\n",
            "\n",
            "Can mental illness be cured?\n",
            "Talking, counselling, medication, friendships, exercise, good sleep and nutrition, and meaningful occupation can all help.We can all suffer from mental health challenges, but developing our wellbeing, resilience, and seeking help early can help prevent challenges becoming serious.Even in such cases, with careful monitoring and management of the disorder, it is still quite possible to live a fulfilled and productive life.It is often more realistic and helpful to find out what helps with the issues you face.Many people with mental illnesses who are diagnosed and treated respond well, although some might experience a return of symptoms.\n",
            "\n",
            "\n",
            "Where can I find a psychiatrist?\n",
            "If you need help finding your local mental health centre, call HealthlinkBC at 811 or visit www.healthlinkbc.ca and use the Find Health Service tool.Different kinds of therapy are more effective based on the nature of the mental health condition and/or symptoms and the person who has them (for example, children will benefit from a therapist who specializes in children’s mental health).However, there are several different types of treatment and therapy that can help.To find a family doctor (general physician), visit the College of Physicians and Surgeons of BC to use their Find a Physician tool.You can also see a family doctor at a local walk-in clinic, though it’s helpful to find a regular doctor if you have ongoing care needs.\n",
            "\n",
            "\n",
            "How can I pay for therapy?\n",
            "It’s no secret that these services can be expensive, but you may be able to offset the costs through: \n",
            " Extended health coverage from your own or an immediate family member’s workplace benefits \n",
            " Employee (Family) Assistance Program from your own or an immediate family member’s workplace benefits \n",
            " For students, school or campus mental health services \n",
            " For Indigenous community members, services offered through your Band, Friendship Centre, Indigenous support organization, or the First Nations Health Authority \n",
            " Cultural or faith communities may offer some mental health services \n",
            " You may be able to claim some larger costs related to treatment of a mental health condition on your income tax return under health expenses \n",
            " Some providers offer lower-cost services or a sliding scale, usually based on your income.You can also called the Mental Health Support Line at 310-6789 (no area code) for more information on local mental health services.Some pharmaceutical companies offer prescription assistance programs to individuals and families with financial needs, while others offer special drug discount cards.Mental health services provided through the government-run (‘public’) system, like services you receive through your local mental health centre or team, an outpatient psychiatry at a hospital are most often completely covered by MSP.\n",
            "\n",
            "\n",
            "bye!\n"
          ]
        }
      ]
    },
    {
      "cell_type": "code",
      "source": [
        ""
      ],
      "metadata": {
        "id": "xIAC80-3rLb4"
      },
      "execution_count": null,
      "outputs": []
    },
    {
      "cell_type": "code",
      "source": [
        ""
      ],
      "metadata": {
        "id": "T-xWvSyhncJW"
      },
      "execution_count": null,
      "outputs": []
    }
  ]
}